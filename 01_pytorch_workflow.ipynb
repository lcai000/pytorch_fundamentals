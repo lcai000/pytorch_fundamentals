{
  "nbformat": 4,
  "nbformat_minor": 0,
  "metadata": {
    "colab": {
      "provenance": [],
      "authorship_tag": "ABX9TyN4H1IVMMGSQuCrY6bHjsS9",
      "include_colab_link": true
    },
    "kernelspec": {
      "name": "python3",
      "display_name": "Python 3"
    },
    "language_info": {
      "name": "python"
    }
  },
  "cells": [
    {
      "cell_type": "markdown",
      "metadata": {
        "id": "view-in-github",
        "colab_type": "text"
      },
      "source": [
        "<a href=\"https://colab.research.google.com/github/lcai000/pytorch_fundamentals/blob/main/01_pytorch_workflow.ipynb\" target=\"_parent\"><img src=\"https://colab.research.google.com/assets/colab-badge.svg\" alt=\"Open In Colab\"/></a>"
      ]
    },
    {
      "cell_type": "markdown",
      "source": [
        "# PyTorch Workflow\n",
        "1. data (prepare and load)\n",
        "2. build model\n",
        "3. fitting the model to data (training)\n",
        "4. making predictions and evaluating a model (inference)\n",
        "5. saving and loading a model\n",
        "6. putting it all together  \n",
        "https://docs.pytorch.org/tutorials/index.html"
      ],
      "metadata": {
        "id": "QEXVTJnX23AL"
      }
    },
    {
      "cell_type": "code",
      "source": [
        "import torch\n",
        "from torch import nn # nn contains all of PyTorch's building blocks for neural networks\n",
        "import matplotlib.pyplot as plt\n",
        "import numpy as np\n",
        "\n",
        "torch.__version__"
      ],
      "metadata": {
        "colab": {
          "base_uri": "https://localhost:8080/",
          "height": 36
        },
        "id": "_3ZOIuKp4J-G",
        "outputId": "ed7e2fde-6679-43e2-a5d1-d90f881f68f4"
      },
      "execution_count": 1,
      "outputs": [
        {
          "output_type": "execute_result",
          "data": {
            "text/plain": [
              "'2.8.0+cu126'"
            ],
            "application/vnd.google.colaboratory.intrinsic+json": {
              "type": "string"
            }
          },
          "metadata": {},
          "execution_count": 1
        }
      ]
    },
    {
      "cell_type": "markdown",
      "source": [
        "## 1. Data (preparing and loading)\n",
        "\n",
        "Data examples in ML:\n",
        "* Excel spreadsheet\n",
        "* Images\n",
        "* Videos\n",
        "* Audio\n",
        "* Text\n",
        "* DNA\n",
        "\n",
        "Machine learning has two main parts:\n",
        "* Get data\n",
        "* Train model on data to find patterns in numerical representations of data"
      ],
      "metadata": {
        "id": "PBIdhIU-5DiM"
      }
    },
    {
      "cell_type": "code",
      "source": [
        "# Create data by using a linear regression"
      ],
      "metadata": {
        "id": "W7D3epBV8-25"
      },
      "execution_count": 2,
      "outputs": []
    },
    {
      "cell_type": "markdown",
      "source": [
        "Linear regression\n",
        "\n",
        "A linear regression has the formula `y=β0​+β1​x+ϵ`\n",
        "* y is what we try to predict(label)\n",
        "* x is the *features* we use to explain the varaition in y\n",
        "* β0​ is the \"y intercept\" or the predicted y value when x is 0\n",
        "* β1 is the slope - the change in y per unit of x\n",
        "* ϵ (epsilon) is the error term which accounts for variation the function cannot explain\n",
        "\n",
        "The formula can be simplified to `y=aX+b`"
      ],
      "metadata": {
        "id": "s6s7C7Tc9BnT"
      }
    },
    {
      "cell_type": "code",
      "source": [
        "# Create *known* parameters\n",
        "weight = 0.7\n",
        "bias = 0.3\n",
        "\n",
        "# Create\n",
        "start = 0\n",
        "end = 1\n",
        "step = 0.02\n",
        "X = torch.arange(start,end,step).unsqueeze(dim=1)\n",
        "y = weight*X + bias\n",
        "\n",
        "X[:10],y[:10]"
      ],
      "metadata": {
        "colab": {
          "base_uri": "https://localhost:8080/"
        },
        "id": "tslefvpn6KrW",
        "outputId": "b0b53f8c-9d8e-42dc-a3ae-680b3b2da01f"
      },
      "execution_count": 3,
      "outputs": [
        {
          "output_type": "execute_result",
          "data": {
            "text/plain": [
              "(tensor([[0.0000],\n",
              "         [0.0200],\n",
              "         [0.0400],\n",
              "         [0.0600],\n",
              "         [0.0800],\n",
              "         [0.1000],\n",
              "         [0.1200],\n",
              "         [0.1400],\n",
              "         [0.1600],\n",
              "         [0.1800]]),\n",
              " tensor([[0.3000],\n",
              "         [0.3140],\n",
              "         [0.3280],\n",
              "         [0.3420],\n",
              "         [0.3560],\n",
              "         [0.3700],\n",
              "         [0.3840],\n",
              "         [0.3980],\n",
              "         [0.4120],\n",
              "         [0.4260]]))"
            ]
          },
          "metadata": {},
          "execution_count": 3
        }
      ]
    },
    {
      "cell_type": "markdown",
      "source": [
        "### Splitting data into training and test sets (one of the most important concepts in machine learning)"
      ],
      "metadata": {
        "id": "oD0eUNFr9GOm"
      }
    },
    {
      "cell_type": "code",
      "source": [
        "# Create a train/test split\n",
        "train_split = int(0.8*len(X)) # index of the split\n",
        "X_train, y_train = X[:train_split],y[:train_split]\n",
        "X_test, y_test = X[train_split:], y[train_split:]\n",
        "\n",
        "len(X_train), len(y_train), len(X_test), len(y_test)"
      ],
      "metadata": {
        "id": "Yn8C_Tt284u5",
        "colab": {
          "base_uri": "https://localhost:8080/"
        },
        "outputId": "80ac2c48-0d32-4eac-e0f3-2d1b1c12c6cc"
      },
      "execution_count": 4,
      "outputs": [
        {
          "output_type": "execute_result",
          "data": {
            "text/plain": [
              "(40, 40, 10, 10)"
            ]
          },
          "metadata": {},
          "execution_count": 4
        }
      ]
    },
    {
      "cell_type": "markdown",
      "source": [
        "Visualize the data better by graphing"
      ],
      "metadata": {
        "id": "M5p3PA0b_bKc"
      }
    },
    {
      "cell_type": "code",
      "source": [
        "def plot_predictions(train_data=X_train,\n",
        "                     train_labels=y_train,\n",
        "                     test_data=X_test,\n",
        "                     test_labels=y_test,\n",
        "                     predictions=None,):\n",
        "  plt.figure(figsize=(10,7))\n",
        "\n",
        "  plt.scatter(train_data, train_labels, c=\"b\", s=4, label=\"Training data\") # plot training data in blue\n",
        "  plt.scatter(test_data, test_labels, c=\"g\", s=4, label=\"Testing data\") # plot testing data in green\n",
        "\n",
        "  if predictions is not None:\n",
        "    plt.scatter(test_data,predictions,c=\"r\", s=5, label=\"Predictions\")\n",
        "\n",
        "  plt.legend(prop={\"size\":14})"
      ],
      "metadata": {
        "id": "YU2EmwQU-21j"
      },
      "execution_count": 5,
      "outputs": []
    },
    {
      "cell_type": "code",
      "source": [
        "plot_predictions()"
      ],
      "metadata": {
        "colab": {
          "base_uri": "https://localhost:8080/",
          "height": 599
        },
        "id": "-2pkWCtU_YHn",
        "outputId": "8185c68b-d62b-4940-b48f-47fe7f5b16f4"
      },
      "execution_count": 6,
      "outputs": [
        {
          "output_type": "display_data",
          "data": {
            "text/plain": [
              "<Figure size 1000x700 with 1 Axes>"
            ],
            "image/png": "[encoded data removed]"
          },
          "metadata": {}
        }
      ]
    },
    {
      "cell_type": "markdown",
      "source": [
        "## 2. Build model\n",
        "what the linear regression model does:\n",
        "* start with random values (weight & bias)\n",
        "* Look at training data and adjust the random values to better represent (or get closer to) the ideal values (the weight & bias values we used to create the data)\n",
        "\n",
        "It uses two main algorithms:\n",
        "1. Gradient descent\n",
        "2. Backpropagation\n",
        "\n",
        "Gradient descent:\n"
      ],
      "metadata": {
        "id": "IH-Jx4TAFSjp"
      }
    },
    {
      "cell_type": "markdown",
      "source": [],
      "metadata": {
        "id": "TjWYEgW2LG_1"
      }
    },
    {
      "cell_type": "code",
      "source": [
        "from torch import nn\n",
        "\n",
        "# Linear regression model class\n",
        "class LinearRegressionModel(nn.Module): # almost everything in PyTorch inherits from nn.Module\n",
        "  def __init__(self):\n",
        "    super().__init__()\n",
        "    self.weight = nn.Parameter(torch.randn(1,requires_grad=True,dtype=torch.float))\n",
        "    self.bias = nn.Parameter(torch.randn(1,requires_grad=True,dtype=torch.float))\n",
        "\n",
        "  # Forward method to define the computation in the model\n",
        "  def forward(self, x:torch.Tensor)->torch.Tensor:\n",
        "    return self.weight * x + self.bias # linear regression formula\n"
      ],
      "metadata": {
        "id": "aK9zRL_8Iejs"
      },
      "execution_count": 7,
      "outputs": []
    },
    {
      "cell_type": "markdown",
      "source": [
        "### PyTorch model essentials\n",
        "* torch.nn - contains all buildings for neural networks\n",
        "* torch.nn.Parameter - the parameters the model tries to learn\n",
        "* torch.nn.Module - The base class for all neural network modules, if subclasseed, forword() method should be overwritten\n",
        "* torch.optim - PyTorch optimizers.\n",
        "* def forward() - All nn.Module subclasses require you to overwrite forward(), this method defines what happns in the forward computation"
      ],
      "metadata": {
        "id": "VlgS7cX7XS6d"
      }
    },
    {
      "cell_type": "markdown",
      "source": [
        "### Checking the contents of the PyTorch model\n",
        "Check model parameters using `.parameters()`\n"
      ],
      "metadata": {
        "id": "sXsVjtb6YRg-"
      }
    },
    {
      "cell_type": "code",
      "source": [
        "# Create a random seed\n",
        "torch.manual_seed(42)\n",
        "\n",
        "# Create an instance of the model (this is a sublcass of nn.Module)\n",
        "model_0 = LinearRegressionModel()\n",
        "\n",
        "# Check out the parameters\n",
        "list(model_0.parameters())"
      ],
      "metadata": {
        "colab": {
          "base_uri": "https://localhost:8080/"
        },
        "id": "CDtTPHXoSn_p",
        "outputId": "10eaaa30-7b5e-4d1d-a8f1-379d3be19a2e"
      },
      "execution_count": 8,
      "outputs": [
        {
          "output_type": "execute_result",
          "data": {
            "text/plain": [
              "[Parameter containing:\n",
              " tensor([0.3367], requires_grad=True),\n",
              " Parameter containing:\n",
              " tensor([0.1288], requires_grad=True)]"
            ]
          },
          "metadata": {},
          "execution_count": 8
        }
      ]
    },
    {
      "cell_type": "code",
      "source": [
        "# List named parameters\n",
        "model_0.state_dict()"
      ],
      "metadata": {
        "colab": {
          "base_uri": "https://localhost:8080/"
        },
        "id": "jbrATeEPTYUj",
        "outputId": "88982eee-a894-40e8-b76c-9a603afd2895"
      },
      "execution_count": 9,
      "outputs": [
        {
          "output_type": "execute_result",
          "data": {
            "text/plain": [
              "OrderedDict([('weight', tensor([0.3367])), ('bias', tensor([0.1288]))])"
            ]
          },
          "metadata": {},
          "execution_count": 9
        }
      ]
    },
    {
      "cell_type": "markdown",
      "source": [
        "### Making prediction using `torch.inference_model()`\n",
        "\n",
        "To check the model's predictive power, we can see how well it predicts `y_test` based on `x_test`.\n",
        "When we pass data trhough the model, it's going to run it through the `forward()` method."
      ],
      "metadata": {
        "id": "5mzvR879UFAv"
      }
    },
    {
      "cell_type": "code",
      "source": [
        "# inputs and ideal outputs\n",
        "X_test, y_test"
      ],
      "metadata": {
        "colab": {
          "base_uri": "https://localhost:8080/"
        },
        "id": "t-cTbteBVf5A",
        "outputId": "c349b413-3f38-4ce8-ee50-3b8738349157"
      },
      "execution_count": 10,
      "outputs": [
        {
          "output_type": "execute_result",
          "data": {
            "text/plain": [
              "(tensor([[0.8000],\n",
              "         [0.8200],\n",
              "         [0.8400],\n",
              "         [0.8600],\n",
              "         [0.8800],\n",
              "         [0.9000],\n",
              "         [0.9200],\n",
              "         [0.9400],\n",
              "         [0.9600],\n",
              "         [0.9800]]),\n",
              " tensor([[0.8600],\n",
              "         [0.8740],\n",
              "         [0.8880],\n",
              "         [0.9020],\n",
              "         [0.9160],\n",
              "         [0.9300],\n",
              "         [0.9440],\n",
              "         [0.9580],\n",
              "         [0.9720],\n",
              "         [0.9860]]))"
            ]
          },
          "metadata": {},
          "execution_count": 10
        }
      ]
    },
    {
      "cell_type": "code",
      "source": [
        "# Make predictions with model\n",
        "with torch.inference_mode():\n",
        "  y_preds = model_0(X_test)\n",
        "y_preds"
      ],
      "metadata": {
        "colab": {
          "base_uri": "https://localhost:8080/"
        },
        "id": "m1FDk5PfTPmm",
        "outputId": "7e1ee814-de34-4b40-f40c-0b1e43b22482"
      },
      "execution_count": 11,
      "outputs": [
        {
          "output_type": "execute_result",
          "data": {
            "text/plain": [
              "tensor([[0.3982],\n",
              "        [0.4049],\n",
              "        [0.4116],\n",
              "        [0.4184],\n",
              "        [0.4251],\n",
              "        [0.4318],\n",
              "        [0.4386],\n",
              "        [0.4453],\n",
              "        [0.4520],\n",
              "        [0.4588]])"
            ]
          },
          "metadata": {},
          "execution_count": 11
        }
      ]
    },
    {
      "cell_type": "code",
      "source": [
        "plot_predictions(predictions=y_preds)"
      ],
      "metadata": {
        "colab": {
          "base_uri": "https://localhost:8080/",
          "height": 599
        },
        "id": "jPI_tCNqS3LZ",
        "outputId": "fe900459-093f-40cb-81eb-92763ee65d3c"
      },
      "execution_count": 12,
      "outputs": [
        {
          "output_type": "display_data",
          "data": {
            "text/plain": [
              "<Figure size 1000x700 with 1 Axes>"
            ],
            "image/png": "[encoded data removed]"
          },
          "metadata": {}
        }
      ]
    },
    {
      "cell_type": "markdown",
      "source": [
        "## Train model\n",
        "\n",
        "The whole idea is for a model to move from some *unknown* parameters (could be random) to some *known* parameters.\n",
        "\n",
        "One way to measure how wrong the model predictions are is using a loss function.\n",
        "\n",
        "* Note: loss functions are sometimes refered to as cost functions\n",
        "* **Loss function**: A function to measure how wrong your model's predictions are, lower is better\n",
        "* **Optimizer**: Takes into account the loss of a model and adjusts the model's parameters(e.g. weight & bias)\n",
        "  * Inside the optimizer there are two important parameters:\n",
        "    * `params`- the model parameters you'd like to optimize, for example `params=model_0.parameters()`\n",
        "    * `lr`(learning rate)- a hyper parameter that defines how big/small the optimzer changes the parameters with each step\n",
        "\n",
        "PyTorch needs:\n",
        "* A training loop\n",
        "* A testing loop"
      ],
      "metadata": {
        "id": "ZYVGEYAZdR0A"
      }
    },
    {
      "cell_type": "code",
      "source": [
        "list(model_0.parameters())"
      ],
      "metadata": {
        "colab": {
          "base_uri": "https://localhost:8080/"
        },
        "id": "Rab-L-nUsyrL",
        "outputId": "a1a4d8b9-a960-4999-b054-93ceb135d909"
      },
      "execution_count": 13,
      "outputs": [
        {
          "output_type": "execute_result",
          "data": {
            "text/plain": [
              "[Parameter containing:\n",
              " tensor([0.3367], requires_grad=True),\n",
              " Parameter containing:\n",
              " tensor([0.1288], requires_grad=True)]"
            ]
          },
          "metadata": {},
          "execution_count": 13
        }
      ]
    },
    {
      "cell_type": "markdown",
      "source": [
        "#### Loss Functions\n",
        "Measures how wrong the model is\n",
        "\n",
        "Two common types of loss functions for regression are:\n",
        "* Mean Absolute Error(MAE)\n",
        "* Mean Square Error(MSE)\n",
        "\n",
        "MAE measures absolute distance, MSE measures distance squared(better for error emphasis)"
      ],
      "metadata": {
        "id": "V0yagit1W-86"
      }
    },
    {
      "cell_type": "markdown",
      "source": [
        "---\n",
        "Mean Absolute Error\n",
        "\n",
        "the average error-or distance between the predicted values and actual values.\n",
        "\n",
        "MAE formula:\n",
        "$$\n",
        "MAE = \\frac{1}{n} \\sum_{i=1}^{n} |y_i - \\hat{y}_i|\n",
        "$$\n",
        "* n=total points\n",
        "* $y_i$=actual value\n",
        "* $\\hat{y}_i$=predicted value\n",
        "\n",
        "---"
      ],
      "metadata": {
        "id": "YYtS6JJ_tVdj"
      }
    },
    {
      "cell_type": "markdown",
      "source": [
        "---\n",
        "Mean Squared Error\n",
        "the averaged squared error between predicted values and actual values\n",
        "\n",
        "MSE formula:\n",
        "$$\n",
        "MSE = \\frac{1}{n}\\sum_{i+1}^{n}(y_i-\\hat{y})^2\n",
        "$$\n",
        "* n=total points\n",
        "* $y_i$=actual value\n",
        "* $\\hat{y}$=predicted value\n",
        "\n",
        "---"
      ],
      "metadata": {
        "id": "WSTz-NAHMz0p"
      }
    },
    {
      "cell_type": "markdown",
      "source": [
        "#### nn.L1Loss()\n",
        "\n",
        "PyTorch loss function that measures MAE between an input `x` and an ouput `y`"
      ],
      "metadata": {
        "id": "c_pr6HTyv72v"
      }
    },
    {
      "cell_type": "code",
      "source": [
        "# Setup loss function\n",
        "loss_fn = nn.L1Loss()\n",
        "\n",
        "# Setup an optimizer (stochastic gradient descent (SGD))\n",
        "optimizer = torch.optim.SGD(params=model_0.parameters(),\n",
        "                           lr=0.01) # learning rate is possibly the most important hyperparameters"
      ],
      "metadata": {
        "id": "017FZaHCs8Q6"
      },
      "execution_count": 14,
      "outputs": []
    },
    {
      "cell_type": "markdown",
      "source": [
        "### Training Loop and Testing Loop\n",
        "training loop needs:\n",
        "0. Loop through the data\n",
        "1. Forward pass (this involves data moving through the model's `forward()` method(s)) - also called forward propagation\n",
        "2. Calculate the loss (compare forward pass predictions to ground truth labels)\n",
        "3. Optimizer zero grad\n",
        "4. Loss backward - move backwards through the network to calculate the gradients of each of the parameters of the model with respect to the loss (**backpropagation**)\n",
        "5. Optimizer step - use the optimizer to adjust the model's parameters to try to improve the loss (**gradient descent**)"
      ],
      "metadata": {
        "id": "c8HwnHufyhtc"
      }
    },
    {
      "cell_type": "code",
      "source": [
        "list(model_0.eval().parameters())"
      ],
      "metadata": {
        "colab": {
          "base_uri": "https://localhost:8080/"
        },
        "id": "WmF2flsb5Cn4",
        "outputId": "736ea2dd-bbba-47ad-9eec-055b9e1764af"
      },
      "execution_count": 15,
      "outputs": [
        {
          "output_type": "execute_result",
          "data": {
            "text/plain": [
              "[Parameter containing:\n",
              " tensor([0.3367], requires_grad=True),\n",
              " Parameter containing:\n",
              " tensor([0.1288], requires_grad=True)]"
            ]
          },
          "metadata": {},
          "execution_count": 15
        }
      ]
    },
    {
      "cell_type": "markdown",
      "source": [
        "---\n",
        "Training loop computes loss function and gradient descent on X_train (seen data) and then uses the updated parameters on X_test (unseen data)\n",
        "\n",
        "---"
      ],
      "metadata": {
        "id": "_oEEDMX-7Uzl"
      }
    },
    {
      "cell_type": "code",
      "source": [
        "# An epoch is one loop through the data (a hyperparameter)\n",
        "epochs = 500\n",
        "\n",
        "# Track different values\n",
        "epoch_count = []\n",
        "loss_values = []\n",
        "test_loss_values = []\n",
        "\n",
        "### Training\n",
        "\n",
        "# 0. Loop through the data\n",
        "for epoch in range(epochs):\n",
        "  model_0.train() # train mode in pytorch\n",
        "\n",
        "  # 1. Forward pass\n",
        "  y_pred = model_0(X_train)\n",
        "\n",
        "  # 2. Calculate the loss\n",
        "  loss = loss_fn(y_pred, y_train)\n",
        "\n",
        "  # 3. Optimizer zero grad\n",
        "  optimizer.zero_grad() # zero the optimizer gradient since it accumulates every epoch, must zero them to start fresh each forward pass\n",
        "\n",
        "  # 4. Backpropagation on the loss with respect to model parameters\n",
        "  loss.backward()\n",
        "\n",
        "  # 5. Step the optimizer (perform gradient descent)\n",
        "  optimizer.step() # by default how the optimizer changes will acculmulate through the loop\n",
        "\n",
        "  # Testing\n",
        "  model_0.eval() # turns off unused settings in testing\n",
        "  with torch.inference_mode():\n",
        "    # 1. Forward pass\n",
        "    test_pred = model_0(X_test)\n",
        "\n",
        "    # 2. Calculate the loss\n",
        "    test_loss = loss_fn(test_pred,y_test)\n",
        "\n",
        "  # Print out training metrics every 10 epochs\n",
        "  if epoch % 10 == 0:\n",
        "    epoch_count.append(epoch)\n",
        "    loss_values.append(loss)\n",
        "    test_loss_values.append(test_loss)\n",
        "    print(f\"EpochL: {epoch} | Loss: {loss} | Test loss: {test_loss}\")\n",
        "    print(model_0.state_dict())\n"
      ],
      "metadata": {
        "colab": {
          "base_uri": "https://localhost:8080/"
        },
        "id": "rpTRc6_U23Gw",
        "outputId": "abf16c9a-c7c5-4fc1-ed5f-5eed123920e8"
      },
      "execution_count": 16,
      "outputs": [
        {
          "output_type": "stream",
          "name": "stdout",
          "text": [
            "EpochL: 0 | Loss: 0.31288138031959534 | Test loss: 0.48106518387794495\n",
            "OrderedDict({'weight': tensor([0.3406]), 'bias': tensor([0.1388])})\n",
            "EpochL: 10 | Loss: 0.1976713240146637 | Test loss: 0.3463551998138428\n",
            "OrderedDict({'weight': tensor([0.3796]), 'bias': tensor([0.2388])})\n",
            "EpochL: 20 | Loss: 0.08908725529909134 | Test loss: 0.21729660034179688\n",
            "OrderedDict({'weight': tensor([0.4184]), 'bias': tensor([0.3333])})\n",
            "EpochL: 30 | Loss: 0.053148526698350906 | Test loss: 0.14464017748832703\n",
            "OrderedDict({'weight': tensor([0.4512]), 'bias': tensor([0.3768])})\n",
            "EpochL: 40 | Loss: 0.04543796554207802 | Test loss: 0.11360953003168106\n",
            "OrderedDict({'weight': tensor([0.4748]), 'bias': tensor([0.3868])})\n",
            "EpochL: 50 | Loss: 0.04167863354086876 | Test loss: 0.09919948130846024\n",
            "OrderedDict({'weight': tensor([0.4938]), 'bias': tensor([0.3843])})\n",
            "EpochL: 60 | Loss: 0.03818932920694351 | Test loss: 0.08886633068323135\n",
            "OrderedDict({'weight': tensor([0.5116]), 'bias': tensor([0.3788])})\n",
            "EpochL: 70 | Loss: 0.03476089984178543 | Test loss: 0.0805937647819519\n",
            "OrderedDict({'weight': tensor([0.5288]), 'bias': tensor([0.3718])})\n",
            "EpochL: 80 | Loss: 0.03132382780313492 | Test loss: 0.07232122868299484\n",
            "OrderedDict({'weight': tensor([0.5459]), 'bias': tensor([0.3648])})\n",
            "EpochL: 90 | Loss: 0.02788739837706089 | Test loss: 0.06473556160926819\n",
            "OrderedDict({'weight': tensor([0.5629]), 'bias': tensor([0.3573])})\n",
            "EpochL: 100 | Loss: 0.024458957836031914 | Test loss: 0.05646304413676262\n",
            "OrderedDict({'weight': tensor([0.5800]), 'bias': tensor([0.3503])})\n",
            "EpochL: 110 | Loss: 0.021020207554101944 | Test loss: 0.04819049686193466\n",
            "OrderedDict({'weight': tensor([0.5972]), 'bias': tensor([0.3433])})\n",
            "EpochL: 120 | Loss: 0.01758546568453312 | Test loss: 0.04060482233762741\n",
            "OrderedDict({'weight': tensor([0.6141]), 'bias': tensor([0.3358])})\n",
            "EpochL: 130 | Loss: 0.014155393466353416 | Test loss: 0.03233227878808975\n",
            "OrderedDict({'weight': tensor([0.6313]), 'bias': tensor([0.3288])})\n",
            "EpochL: 140 | Loss: 0.010716589167714119 | Test loss: 0.024059748277068138\n",
            "OrderedDict({'weight': tensor([0.6485]), 'bias': tensor([0.3218])})\n",
            "EpochL: 150 | Loss: 0.0072835334576666355 | Test loss: 0.016474086791276932\n",
            "OrderedDict({'weight': tensor([0.6654]), 'bias': tensor([0.3143])})\n",
            "EpochL: 160 | Loss: 0.0038517764769494534 | Test loss: 0.008201557211577892\n",
            "OrderedDict({'weight': tensor([0.6826]), 'bias': tensor([0.3073])})\n",
            "EpochL: 170 | Loss: 0.008932482451200485 | Test loss: 0.005023092031478882\n",
            "OrderedDict({'weight': tensor([0.6951]), 'bias': tensor([0.2993])})\n",
            "EpochL: 180 | Loss: 0.008932482451200485 | Test loss: 0.005023092031478882\n",
            "OrderedDict({'weight': tensor([0.6951]), 'bias': tensor([0.2993])})\n",
            "EpochL: 190 | Loss: 0.008932482451200485 | Test loss: 0.005023092031478882\n",
            "OrderedDict({'weight': tensor([0.6951]), 'bias': tensor([0.2993])})\n",
            "EpochL: 200 | Loss: 0.008932482451200485 | Test loss: 0.005023092031478882\n",
            "OrderedDict({'weight': tensor([0.6951]), 'bias': tensor([0.2993])})\n",
            "EpochL: 210 | Loss: 0.008932482451200485 | Test loss: 0.005023092031478882\n",
            "OrderedDict({'weight': tensor([0.6951]), 'bias': tensor([0.2993])})\n",
            "EpochL: 220 | Loss: 0.008932482451200485 | Test loss: 0.005023092031478882\n",
            "OrderedDict({'weight': tensor([0.6951]), 'bias': tensor([0.2993])})\n",
            "EpochL: 230 | Loss: 0.008932482451200485 | Test loss: 0.005023092031478882\n",
            "OrderedDict({'weight': tensor([0.6951]), 'bias': tensor([0.2993])})\n",
            "EpochL: 240 | Loss: 0.008932482451200485 | Test loss: 0.005023092031478882\n",
            "OrderedDict({'weight': tensor([0.6951]), 'bias': tensor([0.2993])})\n",
            "EpochL: 250 | Loss: 0.008932482451200485 | Test loss: 0.005023092031478882\n",
            "OrderedDict({'weight': tensor([0.6951]), 'bias': tensor([0.2993])})\n",
            "EpochL: 260 | Loss: 0.008932482451200485 | Test loss: 0.005023092031478882\n",
            "OrderedDict({'weight': tensor([0.6951]), 'bias': tensor([0.2993])})\n",
            "EpochL: 270 | Loss: 0.008932482451200485 | Test loss: 0.005023092031478882\n",
            "OrderedDict({'weight': tensor([0.6951]), 'bias': tensor([0.2993])})\n",
            "EpochL: 280 | Loss: 0.008932482451200485 | Test loss: 0.005023092031478882\n",
            "OrderedDict({'weight': tensor([0.6951]), 'bias': tensor([0.2993])})\n",
            "EpochL: 290 | Loss: 0.008932482451200485 | Test loss: 0.005023092031478882\n",
            "OrderedDict({'weight': tensor([0.6951]), 'bias': tensor([0.2993])})\n",
            "EpochL: 300 | Loss: 0.008932482451200485 | Test loss: 0.005023092031478882\n",
            "OrderedDict({'weight': tensor([0.6951]), 'bias': tensor([0.2993])})\n",
            "EpochL: 310 | Loss: 0.008932482451200485 | Test loss: 0.005023092031478882\n",
            "OrderedDict({'weight': tensor([0.6951]), 'bias': tensor([0.2993])})\n",
            "EpochL: 320 | Loss: 0.008932482451200485 | Test loss: 0.005023092031478882\n",
            "OrderedDict({'weight': tensor([0.6951]), 'bias': tensor([0.2993])})\n",
            "EpochL: 330 | Loss: 0.008932482451200485 | Test loss: 0.005023092031478882\n",
            "OrderedDict({'weight': tensor([0.6951]), 'bias': tensor([0.2993])})\n",
            "EpochL: 340 | Loss: 0.008932482451200485 | Test loss: 0.005023092031478882\n",
            "OrderedDict({'weight': tensor([0.6951]), 'bias': tensor([0.2993])})\n",
            "EpochL: 350 | Loss: 0.008932482451200485 | Test loss: 0.005023092031478882\n",
            "OrderedDict({'weight': tensor([0.6951]), 'bias': tensor([0.2993])})\n",
            "EpochL: 360 | Loss: 0.008932482451200485 | Test loss: 0.005023092031478882\n",
            "OrderedDict({'weight': tensor([0.6951]), 'bias': tensor([0.2993])})\n",
            "EpochL: 370 | Loss: 0.008932482451200485 | Test loss: 0.005023092031478882\n",
            "OrderedDict({'weight': tensor([0.6951]), 'bias': tensor([0.2993])})\n",
            "EpochL: 380 | Loss: 0.008932482451200485 | Test loss: 0.005023092031478882\n",
            "OrderedDict({'weight': tensor([0.6951]), 'bias': tensor([0.2993])})\n",
            "EpochL: 390 | Loss: 0.008932482451200485 | Test loss: 0.005023092031478882\n",
            "OrderedDict({'weight': tensor([0.6951]), 'bias': tensor([0.2993])})\n",
            "EpochL: 400 | Loss: 0.008932482451200485 | Test loss: 0.005023092031478882\n",
            "OrderedDict({'weight': tensor([0.6951]), 'bias': tensor([0.2993])})\n",
            "EpochL: 410 | Loss: 0.008932482451200485 | Test loss: 0.005023092031478882\n",
            "OrderedDict({'weight': tensor([0.6951]), 'bias': tensor([0.2993])})\n",
            "EpochL: 420 | Loss: 0.008932482451200485 | Test loss: 0.005023092031478882\n",
            "OrderedDict({'weight': tensor([0.6951]), 'bias': tensor([0.2993])})\n",
            "EpochL: 430 | Loss: 0.008932482451200485 | Test loss: 0.005023092031478882\n",
            "OrderedDict({'weight': tensor([0.6951]), 'bias': tensor([0.2993])})\n",
            "EpochL: 440 | Loss: 0.008932482451200485 | Test loss: 0.005023092031478882\n",
            "OrderedDict({'weight': tensor([0.6951]), 'bias': tensor([0.2993])})\n",
            "EpochL: 450 | Loss: 0.008932482451200485 | Test loss: 0.005023092031478882\n",
            "OrderedDict({'weight': tensor([0.6951]), 'bias': tensor([0.2993])})\n",
            "EpochL: 460 | Loss: 0.008932482451200485 | Test loss: 0.005023092031478882\n",
            "OrderedDict({'weight': tensor([0.6951]), 'bias': tensor([0.2993])})\n",
            "EpochL: 470 | Loss: 0.008932482451200485 | Test loss: 0.005023092031478882\n",
            "OrderedDict({'weight': tensor([0.6951]), 'bias': tensor([0.2993])})\n",
            "EpochL: 480 | Loss: 0.008932482451200485 | Test loss: 0.005023092031478882\n",
            "OrderedDict({'weight': tensor([0.6951]), 'bias': tensor([0.2993])})\n",
            "EpochL: 490 | Loss: 0.008932482451200485 | Test loss: 0.005023092031478882\n",
            "OrderedDict({'weight': tensor([0.6951]), 'bias': tensor([0.2993])})\n"
          ]
        }
      ]
    },
    {
      "cell_type": "code",
      "source": [
        "model_0.state_dict()"
      ],
      "metadata": {
        "colab": {
          "base_uri": "https://localhost:8080/"
        },
        "id": "S53Vbkt1HOeG",
        "outputId": "cf58e9db-44d6-4553-fd52-b30402a37e5f"
      },
      "execution_count": 17,
      "outputs": [
        {
          "output_type": "execute_result",
          "data": {
            "text/plain": [
              "OrderedDict([('weight', tensor([0.6990])), ('bias', tensor([0.3093]))])"
            ]
          },
          "metadata": {},
          "execution_count": 17
        }
      ]
    },
    {
      "cell_type": "code",
      "source": [
        "weight,bias"
      ],
      "metadata": {
        "colab": {
          "base_uri": "https://localhost:8080/"
        },
        "id": "2pF1HgqWHQWs",
        "outputId": "52755002-4402-47f3-aa69-08011224fc7a"
      },
      "execution_count": 18,
      "outputs": [
        {
          "output_type": "execute_result",
          "data": {
            "text/plain": [
              "(0.7, 0.3)"
            ]
          },
          "metadata": {},
          "execution_count": 18
        }
      ]
    },
    {
      "cell_type": "code",
      "source": [
        "# Plot the loss curves\n",
        "plt.plot(epoch_count,np.array(torch.tensor(loss_values).numpy()),label=\"Train loss\") # must convert from PyTorch to Numpy\n",
        "plt.plot(epoch_count,test_loss_values,label=\"Test loss\")\n",
        "plt.title(\"Training and test loss curves\")\n",
        "plt.ylabel(\"Loss\")\n",
        "plt.xlabel(\"Epochs\")\n",
        "plt.legend()"
      ],
      "metadata": {
        "colab": {
          "base_uri": "https://localhost:8080/",
          "height": 566
        },
        "id": "IFfYUAuk5gpP",
        "outputId": "66f10a4b-eeca-4917-89de-23e255a2f80d"
      },
      "execution_count": 19,
      "outputs": [
        {
          "output_type": "stream",
          "name": "stderr",
          "text": [
            "/tmp/ipython-input-2023326738.py:2: UserWarning: Converting a tensor with requires_grad=True to a scalar may lead to unexpected behavior.\n",
            "Consider using tensor.detach() first. (Triggered internally at /pytorch/torch/csrc/autograd/generated/python_variable_methods.cpp:835.)\n",
            "  plt.plot(epoch_count,np.array(torch.tensor(loss_values).numpy()),label=\"Train loss\") # must convert from PyTorch to Numpy\n"
          ]
        },
        {
          "output_type": "execute_result",
          "data": {
            "text/plain": [
              "<matplotlib.legend.Legend at 0x7b3659460ec0>"
            ]
          },
          "metadata": {},
          "execution_count": 19
        },
        {
          "output_type": "display_data",
          "data": {
            "text/plain": [
              "<Figure size 640x480 with 1 Axes>"
            ],
            "image/png": "[encoded data removed]"
          },
          "metadata": {}
        }
      ]
    },
    {
      "cell_type": "code",
      "source": [
        "with torch.inference_mode():\n",
        "  y_preds_new = model_0(X_test)\n",
        "y_preds_new"
      ],
      "metadata": {
        "id": "lGzEVPxnHmtO",
        "colab": {
          "base_uri": "https://localhost:8080/"
        },
        "outputId": "d1bdb1d8-1693-4c89-ef5e-4d769242aaf5"
      },
      "execution_count": 41,
      "outputs": [
        {
          "output_type": "execute_result",
          "data": {
            "text/plain": [
              "tensor([[0.8685],\n",
              "        [0.8825],\n",
              "        [0.8965],\n",
              "        [0.9105],\n",
              "        [0.9245],\n",
              "        [0.9384],\n",
              "        [0.9524],\n",
              "        [0.9664],\n",
              "        [0.9804],\n",
              "        [0.9944]])"
            ]
          },
          "metadata": {},
          "execution_count": 41
        }
      ]
    },
    {
      "cell_type": "code",
      "source": [
        "plot_predictions(predictions=y_preds_new)"
      ],
      "metadata": {
        "colab": {
          "base_uri": "https://localhost:8080/",
          "height": 599
        },
        "id": "KuIcBPUA3ROt",
        "outputId": "adafd88b-7c2f-4573-a688-db84e3fff9b1"
      },
      "execution_count": 42,
      "outputs": [
        {
          "output_type": "display_data",
          "data": {
            "text/plain": [
              "<Figure size 1000x700 with 1 Axes>"
            ],
            "image/png": "[encoded data removed]"
          },
          "metadata": {}
        }
      ]
    },
    {
      "cell_type": "markdown",
      "source": [
        "## Save a model in PyTorch\n",
        "\n",
        "Three main ways for saving and loading models in PyTorch\n",
        "1. `torch.save()` - saves PyTorch object in Python's picke format\n",
        "2. `torch.load()` - load a saved PyTorch object\n",
        "3. `torch.nn.Module.load_state_dict()` loads a model's saved state dictionary"
      ],
      "metadata": {
        "id": "jA8N2Mxj3apU"
      }
    },
    {
      "cell_type": "code",
      "source": [
        "# Saving out PyTorch model\n",
        "from pathlib import Path\n",
        "\n",
        "# 1. Create models directory\n",
        "MODEL_PATH = Path(\"models\")\n",
        "MODEL_PATH.mkdir(parents=True, exist_ok=True)\n",
        "\n",
        "# 2. Create model save path\n",
        "MODEL_NAME = \"01_LinearRegression.pth\"\n",
        "MODEL_SAVE_PATH = MODEL_PATH/MODEL_NAME\n",
        "\n",
        "# 3. Save the model state dict\n",
        "print(f\"Saving model to: {MODEL_SAVE_PATH}\")\n",
        "torch.save(obj=model_0.state_dict(),\n",
        "           f=MODEL_SAVE_PATH)\n"
      ],
      "metadata": {
        "id": "PsZeB_Ym3T0M",
        "colab": {
          "base_uri": "https://localhost:8080/"
        },
        "outputId": "8d9b866f-c577-4690-ee0f-7f9400d6a863"
      },
      "execution_count": 22,
      "outputs": [
        {
          "output_type": "stream",
          "name": "stdout",
          "text": [
            "Saving model to: models/01_LinearRegression.pth\n"
          ]
        }
      ]
    },
    {
      "cell_type": "code",
      "source": [
        "!ls -l models"
      ],
      "metadata": {
        "colab": {
          "base_uri": "https://localhost:8080/"
        },
        "id": "R5YOlFnmI71R",
        "outputId": "712b54a1-ab06-475d-a6ca-1e17679a1a9f"
      },
      "execution_count": 23,
      "outputs": [
        {
          "output_type": "stream",
          "name": "stdout",
          "text": [
            "total 4\n",
            "-rw-r--r-- 1 root root 1989 Aug 24 03:31 01_LinearRegression.pth\n"
          ]
        }
      ]
    },
    {
      "cell_type": "markdown",
      "source": [
        "## Loading a PyTorch model\n",
        "\n",
        "If you save only the model's `state_dict()` instead of the entire model, you can create a new instance of the model and load the `state_dict()` into that."
      ],
      "metadata": {
        "id": "T5PtKJNgJ5st"
      }
    },
    {
      "cell_type": "code",
      "source": [
        "model_0.state_dict()"
      ],
      "metadata": {
        "id": "p89LzfQ-K6sV",
        "outputId": "73df00b0-2f82-49d8-db28-146096e2fedc",
        "colab": {
          "base_uri": "https://localhost:8080/"
        }
      },
      "execution_count": 24,
      "outputs": [
        {
          "output_type": "execute_result",
          "data": {
            "text/plain": [
              "OrderedDict([('weight', tensor([0.6990])), ('bias', tensor([0.3093]))])"
            ]
          },
          "metadata": {},
          "execution_count": 24
        }
      ]
    },
    {
      "cell_type": "code",
      "source": [
        "loaded_model_0 = LinearRegressionModel()\n",
        "loaded_model_0.load_state_dict(torch.load(f=MODEL_SAVE_PATH))"
      ],
      "metadata": {
        "id": "TFZLnBoZLCMB",
        "outputId": "45967bc2-a82b-4171-fcc7-942e31470816",
        "colab": {
          "base_uri": "https://localhost:8080/"
        }
      },
      "execution_count": 25,
      "outputs": [
        {
          "output_type": "execute_result",
          "data": {
            "text/plain": [
              "<All keys matched successfully>"
            ]
          },
          "metadata": {},
          "execution_count": 25
        }
      ]
    },
    {
      "cell_type": "code",
      "source": [
        "loaded_model_0.state_dict()"
      ],
      "metadata": {
        "id": "XDncdBkjLj4t",
        "colab": {
          "base_uri": "https://localhost:8080/"
        },
        "outputId": "8499f89e-d092-432b-f058-31b94f1a1af8"
      },
      "execution_count": 26,
      "outputs": [
        {
          "output_type": "execute_result",
          "data": {
            "text/plain": [
              "OrderedDict([('weight', tensor([0.6990])), ('bias', tensor([0.3093]))])"
            ]
          },
          "metadata": {},
          "execution_count": 26
        }
      ]
    },
    {
      "cell_type": "code",
      "source": [
        "# make predictions with loaded model\n",
        "loaded_model_0.eval()\n",
        "with torch.inference_mode():\n",
        "  loaded_model_preds=loaded_model_0(X_test)"
      ],
      "metadata": {
        "id": "iBvpohffIX6f"
      },
      "execution_count": 27,
      "outputs": []
    },
    {
      "cell_type": "code",
      "source": [
        "# Compare loaded model preds with original model preds\n",
        "y_preds_new == loaded_model_preds"
      ],
      "metadata": {
        "colab": {
          "base_uri": "https://localhost:8080/"
        },
        "id": "iqG_g8BgIkn8",
        "outputId": "632256c0-2e71-49e9-cf6c-d591d37d65fd"
      },
      "execution_count": 43,
      "outputs": [
        {
          "output_type": "execute_result",
          "data": {
            "text/plain": [
              "tensor([[True],\n",
              "        [True],\n",
              "        [True],\n",
              "        [True],\n",
              "        [True],\n",
              "        [True],\n",
              "        [True],\n",
              "        [True],\n",
              "        [True],\n",
              "        [True]])"
            ]
          },
          "metadata": {},
          "execution_count": 43
        }
      ]
    },
    {
      "cell_type": "code",
      "source": [],
      "metadata": {
        "id": "4ZjiGU0rI-Jn"
      },
      "execution_count": null,
      "outputs": []
    }
  ]
}