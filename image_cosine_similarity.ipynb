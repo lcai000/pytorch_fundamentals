{
  "nbformat": 4,
  "nbformat_minor": 0,
  "metadata": {
    "colab": {
      "provenance": [],
      "authorship_tag": "ABX9TyOPYxro/KZfRYCG5CwvJIAZ",
      "include_colab_link": true
    },
    "kernelspec": {
      "name": "python3",
      "display_name": "Python 3"
    },
    "language_info": {
      "name": "python"
    }
  },
  "cells": [
    {
      "cell_type": "markdown",
      "metadata": {
        "id": "view-in-github",
        "colab_type": "text"
      },
      "source": [
        "<a href=\"https://colab.research.google.com/github/lcai000/pytorch_fundamentals/blob/main/image_cosine_similarity.ipynb\" target=\"_parent\"><img src=\"https://colab.research.google.com/assets/colab-badge.svg\" alt=\"Open In Colab\"/></a>"
      ]
    },
    {
      "cell_type": "code",
      "execution_count": null,
      "metadata": {
        "id": "kbMsWHxPAj4j"
      },
      "outputs": [],
      "source": [
        "import torch\n",
        "import math"
      ]
    },
    {
      "cell_type": "code",
      "source": [
        "target_image = torch.tensor([[255,255,255],\n",
        "                             [255,255,255],\n",
        "                             [255,255,255],\n",
        "                             [255,255,255],\n",
        "                             [0,0,0],\n",
        "                             [0,0,0],\n",
        "                             [0,0,0],\n",
        "                             [255,255,255],\n",
        "                             [255,255,255],\n",
        "                             [255,255,255],\n",
        "                             ])"
      ],
      "metadata": {
        "id": "aWuWcLd3BIfg"
      },
      "execution_count": null,
      "outputs": []
    },
    {
      "cell_type": "code",
      "source": [
        "target_image.shape"
      ],
      "metadata": {
        "colab": {
          "base_uri": "https://localhost:8080/"
        },
        "id": "QW7NnZWbBXJG",
        "outputId": "73385f7f-5e70-4755-b780-e5061aa65cbb"
      },
      "execution_count": null,
      "outputs": [
        {
          "output_type": "execute_result",
          "data": {
            "text/plain": [
              "torch.Size([10, 3])"
            ]
          },
          "metadata": {},
          "execution_count": 5
        }
      ]
    },
    {
      "cell_type": "code",
      "source": [
        "n = torch.tensor([[255,255,255],\n",
        "                  [255,255,255],\n",
        "                  [255,255,255],\n",
        "                  [255,255,255],\n",
        "                  [0,0,0],\n",
        "                  [0,0,0],\n",
        "                  [0,0,0],\n",
        "                  [255,255,255],\n",
        "                  [255,255,255],\n",
        "                  [255,255,255],\n",
        "                  ])"
      ],
      "metadata": {
        "id": "H2FSCf3eAm5V"
      },
      "execution_count": null,
      "outputs": []
    },
    {
      "cell_type": "code",
      "source": [
        "m = torch.tensor([[255,255,255],\n",
        "                  [0,0,0],\n",
        "                  [255,255,255],\n",
        "                  [255,255,255],\n",
        "                  [255,255,255],\n",
        "                  [0,0,0],\n",
        "                  [255,255,255],\n",
        "                  [255,255,255],\n",
        "                  [255,255,255],\n",
        "                  [255,255,255],\n",
        "                  ])"
      ],
      "metadata": {
        "id": "pyhHWTpKA8dr"
      },
      "execution_count": null,
      "outputs": []
    },
    {
      "cell_type": "code",
      "source": [
        "n_f = n.flatten()"
      ],
      "metadata": {
        "id": "EC958XPrCIIa"
      },
      "execution_count": null,
      "outputs": []
    },
    {
      "cell_type": "code",
      "source": [
        "m_f = m.flatten()"
      ],
      "metadata": {
        "id": "WD5OwbYoE05D"
      },
      "execution_count": null,
      "outputs": []
    },
    {
      "cell_type": "code",
      "source": [
        "target_f = target_image.flatten()\n",
        "target_f"
      ],
      "metadata": {
        "colab": {
          "base_uri": "https://localhost:8080/"
        },
        "id": "ex2vkwncE2R8",
        "outputId": "1407e932-b669-40a6-8007-43abecd28d80"
      },
      "execution_count": null,
      "outputs": [
        {
          "output_type": "execute_result",
          "data": {
            "text/plain": [
              "tensor([255, 255, 255, 255, 255, 255, 255, 255, 255, 255, 255, 255,   0,   0,\n",
              "          0,   0,   0,   0,   0,   0,   0, 255, 255, 255, 255, 255, 255, 255,\n",
              "        255, 255])"
            ]
          },
          "metadata": {},
          "execution_count": 11
        }
      ]
    },
    {
      "cell_type": "code",
      "source": [
        "def vector_magnitude(v)->int:\n",
        "  pre_mag=[]\n",
        "  for i in range(len(v)):\n",
        "    pre_mag.append(int(v[i]**2))\n",
        "  return math.sqrt(sum(pre_mag))"
      ],
      "metadata": {
        "id": "TgW8F5keJdE7"
      },
      "execution_count": null,
      "outputs": []
    },
    {
      "cell_type": "code",
      "source": [
        "mag_n = vector_magnitude(n_f)\n",
        "mag_n"
      ],
      "metadata": {
        "colab": {
          "base_uri": "https://localhost:8080/"
        },
        "id": "03CX1v6LG_Hr",
        "outputId": "167ce090-4fbc-413f-e4ea-e102723f7ac5"
      },
      "execution_count": null,
      "outputs": [
        {
          "output_type": "execute_result",
          "data": {
            "text/plain": [
              "1168.5568022137393"
            ]
          },
          "metadata": {},
          "execution_count": 8
        }
      ]
    },
    {
      "cell_type": "code",
      "source": [
        "mag_m = vector_magnitude(m_f)\n",
        "mag_m"
      ],
      "metadata": {
        "colab": {
          "base_uri": "https://localhost:8080/"
        },
        "id": "7AMkhpmdIJLh",
        "outputId": "80f98cc6-e07a-47c1-bd39-6d686da762ab"
      },
      "execution_count": null,
      "outputs": [
        {
          "output_type": "execute_result",
          "data": {
            "text/plain": [
              "1249.2397688194208"
            ]
          },
          "metadata": {},
          "execution_count": 81
        }
      ]
    },
    {
      "cell_type": "code",
      "source": [
        "mag_target = vector_magnitude(target_f)\n",
        "mag_target"
      ],
      "metadata": {
        "colab": {
          "base_uri": "https://localhost:8080/"
        },
        "id": "9Tq9aWpIIY3q",
        "outputId": "ea323ac2-e5ca-4475-c80c-c9d92b067fab"
      },
      "execution_count": null,
      "outputs": [
        {
          "output_type": "execute_result",
          "data": {
            "text/plain": [
              "1168.5568022137393"
            ]
          },
          "metadata": {},
          "execution_count": 12
        }
      ]
    },
    {
      "cell_type": "code",
      "source": [
        "%time\n",
        "similarity_n = torch.cos(torch.dot(n_f,target_f)/(mag_n)*(mag_target))\n",
        "similarity_n"
      ],
      "metadata": {
        "colab": {
          "base_uri": "https://localhost:8080/"
        },
        "id": "jo7kYWbRE4B_",
        "outputId": "8b07f51c-e64d-4a0e-82e6-e25e4dccd703"
      },
      "execution_count": null,
      "outputs": [
        {
          "output_type": "stream",
          "name": "stdout",
          "text": [
            "CPU times: user 4 µs, sys: 1 µs, total: 5 µs\n",
            "Wall time: 8.82 µs\n"
          ]
        },
        {
          "output_type": "execute_result",
          "data": {
            "text/plain": [
              "tensor(0.9437)"
            ]
          },
          "metadata": {},
          "execution_count": 14
        }
      ]
    },
    {
      "cell_type": "code",
      "source": [
        "%time\n",
        "similarity_m = torch.cos(torch.dot(m_f,target_f)/(mag_m)*(mag_target))\n",
        "similarity_m"
      ],
      "metadata": {
        "colab": {
          "base_uri": "https://localhost:8080/"
        },
        "id": "da_XR-f6GIDv",
        "outputId": "aa9bb1ac-48ba-492d-bcdf-debf3fd2ea6f"
      },
      "execution_count": null,
      "outputs": [
        {
          "output_type": "stream",
          "name": "stdout",
          "text": [
            "CPU times: user 4 µs, sys: 0 ns, total: 4 µs\n",
            "Wall time: 7.87 µs\n"
          ]
        },
        {
          "output_type": "execute_result",
          "data": {
            "text/plain": [
              "tensor(-0.2815)"
            ]
          },
          "metadata": {},
          "execution_count": 101
        }
      ]
    },
    {
      "cell_type": "code",
      "source": [],
      "metadata": {
        "id": "b2MUMtxVFtpi"
      },
      "execution_count": null,
      "outputs": []
    }
  ]
}