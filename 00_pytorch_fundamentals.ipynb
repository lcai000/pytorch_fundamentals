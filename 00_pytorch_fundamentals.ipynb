{
  "nbformat": 4,
  "nbformat_minor": 0,
  "metadata": {
    "colab": {
      "provenance": [],
      "authorship_tag": "ABX9TyOa58DLo1lB2mV3+LJRa/R/",
      "include_colab_link": true
    },
    "kernelspec": {
      "name": "python3",
      "display_name": "Python 3"
    },
    "language_info": {
      "name": "python"
    }
  },
  "cells": [
    {
      "cell_type": "markdown",
      "metadata": {
        "id": "view-in-github",
        "colab_type": "text"
      },
      "source": [
        "<a href=\"https://colab.research.google.com/github/lcai000/pytorch_fundamentals/blob/main/00_pytorch_fundamentals.ipynb\" target=\"_parent\"><img src=\"https://colab.research.google.com/assets/colab-badge.svg\" alt=\"Open In Colab\"/></a>"
      ]
    },
    {
      "cell_type": "code",
      "execution_count": 2,
      "metadata": {
        "colab": {
          "base_uri": "https://localhost:8080/"
        },
        "id": "Xjl4wlvsJEmX",
        "outputId": "193edaf9-e9d3-401c-f8ba-25ce1fbaefde"
      },
      "outputs": [
        {
          "output_type": "stream",
          "name": "stdout",
          "text": [
            "2.6.0+cu124\n"
          ]
        }
      ],
      "source": [
        "import torch\n",
        "import pandas as pd\n",
        "import numpy as np\n",
        "import matplotlib as plt\n",
        "print(torch.__version__)"
      ]
    },
    {
      "cell_type": "markdown",
      "source": [
        "## Introduction to Tensors\n",
        "\n",
        "### Creating Tensors\n",
        "\n",
        "PyTorch tensors are created using `torch.Tensor()` -= https://pytorch.org/docs/stable/tensors.html"
      ],
      "metadata": {
        "id": "-y8mg2HqL3OM"
      }
    },
    {
      "cell_type": "code",
      "source": [
        "# scalar\n",
        "scalar = torch.tensor(7)\n",
        "scalar"
      ],
      "metadata": {
        "colab": {
          "base_uri": "https://localhost:8080/"
        },
        "id": "RPfBBhFTL9y2",
        "outputId": "5dd37d90-bee5-4d98-a7c4-8629b4452a42"
      },
      "execution_count": 3,
      "outputs": [
        {
          "output_type": "execute_result",
          "data": {
            "text/plain": [
              "tensor(7)"
            ]
          },
          "metadata": {},
          "execution_count": 3
        }
      ]
    },
    {
      "cell_type": "code",
      "source": [
        "scalar.ndim"
      ],
      "metadata": {
        "colab": {
          "base_uri": "https://localhost:8080/"
        },
        "id": "WewsVxsJMN9D",
        "outputId": "5f78b170-d095-4d2f-935e-12b455b002a9"
      },
      "execution_count": 4,
      "outputs": [
        {
          "output_type": "execute_result",
          "data": {
            "text/plain": [
              "0"
            ]
          },
          "metadata": {},
          "execution_count": 4
        }
      ]
    },
    {
      "cell_type": "code",
      "source": [
        "# Get tensor back as Python int\n",
        "scalar.item()"
      ],
      "metadata": {
        "colab": {
          "base_uri": "https://localhost:8080/"
        },
        "id": "Jkp_s7JzNKVk",
        "outputId": "5bee442c-7226-484a-cfd7-37cd0117da92"
      },
      "execution_count": 5,
      "outputs": [
        {
          "output_type": "execute_result",
          "data": {
            "text/plain": [
              "7"
            ]
          },
          "metadata": {},
          "execution_count": 5
        }
      ]
    },
    {
      "cell_type": "code",
      "source": [
        "# Vector\n",
        "vector = torch.tensor([7,7])\n",
        "vector"
      ],
      "metadata": {
        "colab": {
          "base_uri": "https://localhost:8080/"
        },
        "id": "sATDfRQMNOTj",
        "outputId": "11b4f0e7-7ce8-4fed-fd61-f952e4119178"
      },
      "execution_count": 6,
      "outputs": [
        {
          "output_type": "execute_result",
          "data": {
            "text/plain": [
              "tensor([7, 7])"
            ]
          },
          "metadata": {},
          "execution_count": 6
        }
      ]
    },
    {
      "cell_type": "code",
      "source": [
        "vector.ndim"
      ],
      "metadata": {
        "colab": {
          "base_uri": "https://localhost:8080/"
        },
        "id": "HDONK-AFNUrF",
        "outputId": "593a84fd-7b59-4b32-fc14-6bb048fc8290"
      },
      "execution_count": 7,
      "outputs": [
        {
          "output_type": "execute_result",
          "data": {
            "text/plain": [
              "1"
            ]
          },
          "metadata": {},
          "execution_count": 7
        }
      ]
    },
    {
      "cell_type": "code",
      "source": [
        "vector.shape"
      ],
      "metadata": {
        "colab": {
          "base_uri": "https://localhost:8080/"
        },
        "id": "SwCM9KPGNkTx",
        "outputId": "f9380068-a4a1-4c50-ab3d-29b081dda2d7"
      },
      "execution_count": 8,
      "outputs": [
        {
          "output_type": "execute_result",
          "data": {
            "text/plain": [
              "torch.Size([2])"
            ]
          },
          "metadata": {},
          "execution_count": 8
        }
      ]
    },
    {
      "cell_type": "code",
      "source": [
        "# MATRIX\n",
        "MATRIX = torch.tensor([[7,8],\n",
        "                       [9,10]])\n",
        "MATRIX"
      ],
      "metadata": {
        "colab": {
          "base_uri": "https://localhost:8080/"
        },
        "id": "aOVJi1taNozz",
        "outputId": "68d306bf-781e-4080-a7f1-e8885e32ec65"
      },
      "execution_count": 9,
      "outputs": [
        {
          "output_type": "execute_result",
          "data": {
            "text/plain": [
              "tensor([[ 7,  8],\n",
              "        [ 9, 10]])"
            ]
          },
          "metadata": {},
          "execution_count": 9
        }
      ]
    },
    {
      "cell_type": "code",
      "source": [
        "MATRIX.ndim"
      ],
      "metadata": {
        "colab": {
          "base_uri": "https://localhost:8080/"
        },
        "id": "d9JcsPXvOA8Y",
        "outputId": "7309149a-867e-40a2-c181-db793e906e73"
      },
      "execution_count": 10,
      "outputs": [
        {
          "output_type": "execute_result",
          "data": {
            "text/plain": [
              "2"
            ]
          },
          "metadata": {},
          "execution_count": 10
        }
      ]
    },
    {
      "cell_type": "code",
      "source": [
        "MATRIX[0]"
      ],
      "metadata": {
        "colab": {
          "base_uri": "https://localhost:8080/"
        },
        "id": "0MonbX91OJuu",
        "outputId": "c888440a-f512-4f3f-ebbd-beab95d99ded"
      },
      "execution_count": 11,
      "outputs": [
        {
          "output_type": "execute_result",
          "data": {
            "text/plain": [
              "tensor([7, 8])"
            ]
          },
          "metadata": {},
          "execution_count": 11
        }
      ]
    },
    {
      "cell_type": "code",
      "source": [
        "MATRIX.shape"
      ],
      "metadata": {
        "colab": {
          "base_uri": "https://localhost:8080/"
        },
        "id": "zpYjlbvOORfa",
        "outputId": "0c1ea1b6-55e8-446b-d5ac-76244e5d3966"
      },
      "execution_count": 12,
      "outputs": [
        {
          "output_type": "execute_result",
          "data": {
            "text/plain": [
              "torch.Size([2, 2])"
            ]
          },
          "metadata": {},
          "execution_count": 12
        }
      ]
    },
    {
      "cell_type": "code",
      "source": [
        "# TENSOR\n",
        "TENSOR = torch.tensor([[[1,2,3],\n",
        "                        [3,6,9],\n",
        "                        [2,5,4]],\n",
        "                       [[5,2,3],\n",
        "                        [3,9,9],\n",
        "                        [2,3,6]]])\n",
        "TENSOR"
      ],
      "metadata": {
        "colab": {
          "base_uri": "https://localhost:8080/"
        },
        "id": "8x1thnY5OPSe",
        "outputId": "bc2dbe0f-2f3a-4bdf-cbfd-e4f387df6f42"
      },
      "execution_count": 13,
      "outputs": [
        {
          "output_type": "execute_result",
          "data": {
            "text/plain": [
              "tensor([[[1, 2, 3],\n",
              "         [3, 6, 9],\n",
              "         [2, 5, 4]],\n",
              "\n",
              "        [[5, 2, 3],\n",
              "         [3, 9, 9],\n",
              "         [2, 3, 6]]])"
            ]
          },
          "metadata": {},
          "execution_count": 13
        }
      ]
    },
    {
      "cell_type": "code",
      "source": [
        "TENSOR.ndim"
      ],
      "metadata": {
        "colab": {
          "base_uri": "https://localhost:8080/"
        },
        "id": "swMYwjT2PBOU",
        "outputId": "0a4ee4e3-b41c-4aee-8d94-1db95cee6133"
      },
      "execution_count": 14,
      "outputs": [
        {
          "output_type": "execute_result",
          "data": {
            "text/plain": [
              "3"
            ]
          },
          "metadata": {},
          "execution_count": 14
        }
      ]
    },
    {
      "cell_type": "code",
      "source": [
        "TENSOR.shape"
      ],
      "metadata": {
        "colab": {
          "base_uri": "https://localhost:8080/"
        },
        "id": "rGSW5xSqPItq",
        "outputId": "02e36a99-b2c7-4150-93e8-2923f07a245b"
      },
      "execution_count": 15,
      "outputs": [
        {
          "output_type": "execute_result",
          "data": {
            "text/plain": [
              "torch.Size([2, 3, 3])"
            ]
          },
          "metadata": {},
          "execution_count": 15
        }
      ]
    },
    {
      "cell_type": "code",
      "source": [
        "TENSOR[0]"
      ],
      "metadata": {
        "colab": {
          "base_uri": "https://localhost:8080/"
        },
        "id": "hzVhhHdhPKDV",
        "outputId": "9878accf-af3b-4605-846f-e719df365d29"
      },
      "execution_count": 16,
      "outputs": [
        {
          "output_type": "execute_result",
          "data": {
            "text/plain": [
              "tensor([[1, 2, 3],\n",
              "        [3, 6, 9],\n",
              "        [2, 5, 4]])"
            ]
          },
          "metadata": {},
          "execution_count": 16
        }
      ]
    },
    {
      "cell_type": "code",
      "source": [
        "TENSOR[1]"
      ],
      "metadata": {
        "colab": {
          "base_uri": "https://localhost:8080/"
        },
        "id": "LdIq82pOPS5C",
        "outputId": "02a661c9-5e2c-4c6f-a4f9-f7762fdf5152"
      },
      "execution_count": 17,
      "outputs": [
        {
          "output_type": "execute_result",
          "data": {
            "text/plain": [
              "tensor([[5, 2, 3],\n",
              "        [3, 9, 9],\n",
              "        [2, 3, 6]])"
            ]
          },
          "metadata": {},
          "execution_count": 17
        }
      ]
    },
    {
      "cell_type": "markdown",
      "source": [
        "### Random tensors\n",
        "\n",
        "Why random tensors?\n",
        "Random tensors are important because the way many neural networks learn is through starting with tensors full of random numbers and then adjusting those random numbers to better represent the data.\n",
        "\n",
        "`Start with random numbers -> look at data -> update random numbers`"
      ],
      "metadata": {
        "id": "4AZJC5RfVDMa"
      }
    },
    {
      "cell_type": "code",
      "source": [
        "# Create random tensor of size (3,4)\n",
        "\n",
        "random_tensor = torch.rand(size=(3,4))\n",
        "random_tensor"
      ],
      "metadata": {
        "colab": {
          "base_uri": "https://localhost:8080/"
        },
        "id": "pUO_ldSJWA_N",
        "outputId": "6c013cfb-db74-492c-8aec-733cde1539e8"
      },
      "execution_count": 18,
      "outputs": [
        {
          "output_type": "execute_result",
          "data": {
            "text/plain": [
              "tensor([[0.2356, 0.8441, 0.9399, 0.3866],\n",
              "        [0.4574, 0.3547, 0.3301, 0.0595],\n",
              "        [0.0061, 0.7291, 0.9868, 0.8801]])"
            ]
          },
          "metadata": {},
          "execution_count": 18
        }
      ]
    },
    {
      "cell_type": "code",
      "source": [
        "random_tensor.ndim"
      ],
      "metadata": {
        "colab": {
          "base_uri": "https://localhost:8080/"
        },
        "id": "K5TXuiYxWXse",
        "outputId": "14578499-5c19-4e8b-ea1c-e27015bf5dff"
      },
      "execution_count": 19,
      "outputs": [
        {
          "output_type": "execute_result",
          "data": {
            "text/plain": [
              "2"
            ]
          },
          "metadata": {},
          "execution_count": 19
        }
      ]
    },
    {
      "cell_type": "code",
      "source": [
        "# Create a random tensor with similar shape to an image tensor\n",
        "random_image_size_tensor = torch.rand(size=(224,224,3)) #height, width, color channels\n",
        "random_image_size_tensor.shape, random_image_size_tensor.ndim"
      ],
      "metadata": {
        "colab": {
          "base_uri": "https://localhost:8080/"
        },
        "id": "lMXtwsWNWon2",
        "outputId": "e8f26cb6-259f-46db-eb5e-2bbfa09f7e7c"
      },
      "execution_count": 20,
      "outputs": [
        {
          "output_type": "execute_result",
          "data": {
            "text/plain": [
              "(torch.Size([224, 224, 3]), 3)"
            ]
          },
          "metadata": {},
          "execution_count": 20
        }
      ]
    },
    {
      "cell_type": "code",
      "source": [
        "torch.rand(size=(3,3))"
      ],
      "metadata": {
        "colab": {
          "base_uri": "https://localhost:8080/"
        },
        "id": "L5YDTIvWXYUY",
        "outputId": "6684b519-544d-41f7-a573-0f1a8603e7b1"
      },
      "execution_count": 21,
      "outputs": [
        {
          "output_type": "execute_result",
          "data": {
            "text/plain": [
              "tensor([[0.0402, 0.8029, 0.2383],\n",
              "        [0.3647, 0.9901, 0.7602],\n",
              "        [0.4605, 0.5776, 0.7795]])"
            ]
          },
          "metadata": {},
          "execution_count": 21
        }
      ]
    },
    {
      "cell_type": "code",
      "source": [
        "torch.rand(size=(4,2))"
      ],
      "metadata": {
        "colab": {
          "base_uri": "https://localhost:8080/"
        },
        "id": "z5Oi8Rr-XwKX",
        "outputId": "cb6ddf54-0d15-49ff-bbab-815236f0b0db"
      },
      "execution_count": 22,
      "outputs": [
        {
          "output_type": "execute_result",
          "data": {
            "text/plain": [
              "tensor([[0.7605, 0.8921],\n",
              "        [0.6760, 0.9451],\n",
              "        [0.3524, 0.9502],\n",
              "        [0.7762, 0.9510]])"
            ]
          },
          "metadata": {},
          "execution_count": 22
        }
      ]
    },
    {
      "cell_type": "markdown",
      "source": [
        "### Zeros and ones"
      ],
      "metadata": {
        "id": "7ZhDvF5VYX3_"
      }
    },
    {
      "cell_type": "code",
      "source": [
        "# Create a tensor of all zeros\n",
        "zeros = torch.zeros(size=(3,4))\n",
        "zeros"
      ],
      "metadata": {
        "colab": {
          "base_uri": "https://localhost:8080/"
        },
        "id": "Zj7VhvN1YWu0",
        "outputId": "57c422ad-b403-4d0c-9164-d7fe6acae0cd"
      },
      "execution_count": 23,
      "outputs": [
        {
          "output_type": "execute_result",
          "data": {
            "text/plain": [
              "tensor([[0., 0., 0., 0.],\n",
              "        [0., 0., 0., 0.],\n",
              "        [0., 0., 0., 0.]])"
            ]
          },
          "metadata": {},
          "execution_count": 23
        }
      ]
    },
    {
      "cell_type": "code",
      "source": [
        "# Create a tensor of all ones\n",
        "ones = torch.ones(size=(3,4))\n",
        "ones"
      ],
      "metadata": {
        "colab": {
          "base_uri": "https://localhost:8080/"
        },
        "id": "RMKqrWuXZEAm",
        "outputId": "3172ef89-907d-494a-def5-2fa6ff5b7ed5"
      },
      "execution_count": 24,
      "outputs": [
        {
          "output_type": "execute_result",
          "data": {
            "text/plain": [
              "tensor([[1., 1., 1., 1.],\n",
              "        [1., 1., 1., 1.],\n",
              "        [1., 1., 1., 1.]])"
            ]
          },
          "metadata": {},
          "execution_count": 24
        }
      ]
    },
    {
      "cell_type": "code",
      "source": [
        "ones.dtype"
      ],
      "metadata": {
        "colab": {
          "base_uri": "https://localhost:8080/"
        },
        "id": "CbyXu9S9YG4p",
        "outputId": "6e7c9b59-3bac-4d59-e256-c76ddf6e45a7"
      },
      "execution_count": 25,
      "outputs": [
        {
          "output_type": "execute_result",
          "data": {
            "text/plain": [
              "torch.float32"
            ]
          },
          "metadata": {},
          "execution_count": 25
        }
      ]
    },
    {
      "cell_type": "markdown",
      "source": [
        "### Creating a range of tensors and tensor-like"
      ],
      "metadata": {
        "id": "SEDdR0pWZdFd"
      }
    },
    {
      "cell_type": "code",
      "source": [
        "# Use torch.arange()\n",
        "one_to_ten = torch.arange(start=0,end=11,step=1)\n",
        "one_to_ten"
      ],
      "metadata": {
        "colab": {
          "base_uri": "https://localhost:8080/"
        },
        "id": "Rcsa3IG9ZOQd",
        "outputId": "9e30f1c4-6572-41b7-ed3f-a6308cb3407b"
      },
      "execution_count": 26,
      "outputs": [
        {
          "output_type": "execute_result",
          "data": {
            "text/plain": [
              "tensor([ 0,  1,  2,  3,  4,  5,  6,  7,  8,  9, 10])"
            ]
          },
          "metadata": {},
          "execution_count": 26
        }
      ]
    },
    {
      "cell_type": "code",
      "source": [
        "# Creating tensors like\n",
        "ten_zeros = torch.zeros_like(input=one_to_ten)\n",
        "ten_zeros"
      ],
      "metadata": {
        "colab": {
          "base_uri": "https://localhost:8080/"
        },
        "id": "-BuuAjixaHon",
        "outputId": "00dab481-33b7-40a5-fd3b-0e462e2e51e7"
      },
      "execution_count": 27,
      "outputs": [
        {
          "output_type": "execute_result",
          "data": {
            "text/plain": [
              "tensor([0, 0, 0, 0, 0, 0, 0, 0, 0, 0, 0])"
            ]
          },
          "metadata": {},
          "execution_count": 27
        }
      ]
    },
    {
      "cell_type": "markdown",
      "source": [
        "### Tensor datatypes\n",
        "**note:** Tensor datatypes is one of 3 common errors in PyTorch and deep learning:\n",
        "1. Tensors not right datatype\n",
        "2. Tensors not right shape\n",
        "3. Tensors not on right device\n"
      ],
      "metadata": {
        "id": "WWeEjfX4bTAH"
      }
    },
    {
      "cell_type": "code",
      "source": [
        "# Float 32 tensor\n",
        "float_32_tensor = torch.tensor([3.0,6.0,9.0],\n",
        "                               dtype=None, # auto sets to float 32, but able to specify(ie. float 16,32,64)\n",
        "                               device=None, # what device the tensor is on\n",
        "                               requires_grad=False) # whether or not to track gradients\n",
        "float_32_tensor"
      ],
      "metadata": {
        "colab": {
          "base_uri": "https://localhost:8080/"
        },
        "id": "UCXLMgaObVcX",
        "outputId": "a8047205-8bcd-4888-c26b-5593c90d2748"
      },
      "execution_count": 28,
      "outputs": [
        {
          "output_type": "execute_result",
          "data": {
            "text/plain": [
              "tensor([3., 6., 9.])"
            ]
          },
          "metadata": {},
          "execution_count": 28
        }
      ]
    },
    {
      "cell_type": "code",
      "source": [
        "float_32_tensor.dtype"
      ],
      "metadata": {
        "colab": {
          "base_uri": "https://localhost:8080/"
        },
        "id": "WQtYXBkxbebw",
        "outputId": "c4cb6f7a-0665-46db-d4f9-c62d30377481"
      },
      "execution_count": 29,
      "outputs": [
        {
          "output_type": "execute_result",
          "data": {
            "text/plain": [
              "torch.float32"
            ]
          },
          "metadata": {},
          "execution_count": 29
        }
      ]
    },
    {
      "cell_type": "code",
      "source": [
        "# Convert float 32 tensor to float 16 tensor\n",
        "float_16_tensor = float_32_tensor.type(torch.float16)\n",
        "float_16_tensor"
      ],
      "metadata": {
        "colab": {
          "base_uri": "https://localhost:8080/"
        },
        "id": "k8FYgZFSeKEu",
        "outputId": "42d2b0ac-9b07-4aa1-b05c-a19d7cc53e09"
      },
      "execution_count": 30,
      "outputs": [
        {
          "output_type": "execute_result",
          "data": {
            "text/plain": [
              "tensor([3., 6., 9.], dtype=torch.float16)"
            ]
          },
          "metadata": {},
          "execution_count": 30
        }
      ]
    },
    {
      "cell_type": "code",
      "source": [
        "# add tensors of different datatype\n",
        "float_32_tensor = torch.tensor([4,2,5],dtype=torch.float32)\n",
        "int_32_tensor = torch.tensor([3,6,9],dtype=torch.int32)\n",
        "\n",
        "sum_tensors = float_32_tensor+int_32_tensor\n",
        "(sum_tensors,sum_tensors.dtype)"
      ],
      "metadata": {
        "id": "7QE39x4_eU8L",
        "colab": {
          "base_uri": "https://localhost:8080/"
        },
        "outputId": "12f791b6-4a1f-4391-a0bc-057b7745ffbd"
      },
      "execution_count": 31,
      "outputs": [
        {
          "output_type": "execute_result",
          "data": {
            "text/plain": [
              "(tensor([ 7.,  8., 14.]), torch.float32)"
            ]
          },
          "metadata": {},
          "execution_count": 31
        }
      ]
    },
    {
      "cell_type": "markdown",
      "source": [
        "### Getting information from tensors\n",
        "1. get datatype: `tensor.dtype`\n",
        "2. get shape: `tensor.shape`\n",
        "3. get device: `tensor.device`"
      ],
      "metadata": {
        "id": "6n0g-MWojYfT"
      }
    },
    {
      "cell_type": "code",
      "source": [
        "# Get tensor attributes(type,shape,device)\n",
        "some_tensor = torch.rand(3,4)\n",
        "print(str(some_tensor) +'\\n'+f\"Datatype: {some_tensor.dtype}\"+'\\n'+f\"Shape: {some_tensor.shape}\"+'\\n'+f\"Device: {some_tensor.device}\")"
      ],
      "metadata": {
        "colab": {
          "base_uri": "https://localhost:8080/"
        },
        "id": "ZR3QzH1MjRnV",
        "outputId": "d47dc22f-417f-4322-868f-e17e99c48d0a"
      },
      "execution_count": 32,
      "outputs": [
        {
          "output_type": "stream",
          "name": "stdout",
          "text": [
            "tensor([[0.9415, 0.6770, 0.7441, 0.7517],\n",
            "        [0.1335, 0.2461, 0.1926, 0.0401],\n",
            "        [0.9514, 0.6184, 0.0113, 0.6157]])\n",
            "Datatype: torch.float32\n",
            "Shape: torch.Size([3, 4])\n",
            "Device: cpu\n"
          ]
        }
      ]
    },
    {
      "cell_type": "markdown",
      "source": [
        "### Manipulating Tensors(tensor operations)\n",
        "\n",
        "Tensor operations:\n",
        "* Addition\n",
        "* Subtraction\n",
        "* Multiplication(element wise)\n",
        "* Division\n",
        "* Matrix multiplication"
      ],
      "metadata": {
        "id": "g3rsPCG3lMIG"
      }
    },
    {
      "cell_type": "code",
      "source": [
        "# create tensor\n",
        "tensor = torch.rand([1,3])"
      ],
      "metadata": {
        "id": "NEg-IvVCkFRi"
      },
      "execution_count": 33,
      "outputs": []
    },
    {
      "cell_type": "code",
      "source": [
        "# tensor scalar operations\n",
        "print(f\" add by 10: {tensor + 10}\")\n",
        "print(f\" subtract by 10: {tensor - 10}\")\n",
        "print(f\" multiply by 10: {tensor * 10}\")\n",
        "print(f\" divide by 10: {tensor / 10}\")"
      ],
      "metadata": {
        "colab": {
          "base_uri": "https://localhost:8080/"
        },
        "id": "lfTI4rpLmrf1",
        "outputId": "bf0cc219-7b82-4bdd-9df2-ab113d21ec0f"
      },
      "execution_count": 34,
      "outputs": [
        {
          "output_type": "stream",
          "name": "stdout",
          "text": [
            " add by 10: tensor([[10.3395, 10.4638, 10.6470]])\n",
            " subtract by 10: tensor([[-9.6605, -9.5362, -9.3530]])\n",
            " multiply by 10: tensor([[3.3950, 4.6383, 6.4699]])\n",
            " divide by 10: tensor([[0.0339, 0.0464, 0.0647]])\n"
          ]
        }
      ]
    },
    {
      "cell_type": "code",
      "source": [
        "torch.mul(tensor,10) #torch also has inbuilt functions add,sub,mul,div but its recommended to use Python operators"
      ],
      "metadata": {
        "colab": {
          "base_uri": "https://localhost:8080/"
        },
        "id": "oKTN7GaumxQd",
        "outputId": "3ac355e9-20c3-452e-fd73-631f8ad23896"
      },
      "execution_count": 35,
      "outputs": [
        {
          "output_type": "execute_result",
          "data": {
            "text/plain": [
              "tensor([[3.3950, 4.6383, 6.4699]])"
            ]
          },
          "metadata": {},
          "execution_count": 35
        }
      ]
    },
    {
      "cell_type": "markdown",
      "source": [
        "### Matrix multiplication\n",
        "\n",
        "compute matrix multiplication by using `torch.matmul(tensorA,tensorB)`, `torch.mm(tensorA,tensorB)` or `tensorA @ tensorB`\n",
        "\n",
        "Two main ways of multiplication on tensors:\n",
        "1. element-wise multiplication\n",
        "2. matrix multiplication\n",
        "\n",
        "Rules of matrix multiplication:\n",
        "1. the **inner** dimensions must match:\n",
        "* `(3,2) @ (3,2)` will not work\n",
        "* `(2,3) @ (3,2)` will work\n",
        "2. resulting matrix has the shape of the **outer dimentions**:\n",
        "* `(2,3) @ (3,2) -> (2,2) `\n",
        "* `(3,2) @ (2,3) -> (3,3) `\n"
      ],
      "metadata": {
        "id": "TKOgthxpoQU5"
      }
    },
    {
      "cell_type": "code",
      "source": [
        "tensor = torch.tensor([1,3,5])"
      ],
      "metadata": {
        "id": "TJzkDnrZpk3Y"
      },
      "execution_count": 36,
      "outputs": []
    },
    {
      "cell_type": "code",
      "source": [
        "# Element wise multipication\n",
        "print(tensor, \"*\", tensor)\n",
        "print(f\"Equals: {tensor*tensor}\")"
      ],
      "metadata": {
        "colab": {
          "base_uri": "https://localhost:8080/"
        },
        "id": "RqcKFLIbnrFI",
        "outputId": "97a3530b-4d65-48f8-972f-180ff94a06ec"
      },
      "execution_count": 37,
      "outputs": [
        {
          "output_type": "stream",
          "name": "stdout",
          "text": [
            "tensor([1, 3, 5]) * tensor([1, 3, 5])\n",
            "Equals: tensor([ 1,  9, 25])\n"
          ]
        }
      ]
    },
    {
      "cell_type": "code",
      "source": [
        "# Matrix multiplication\n",
        "torch.matmul(tensor,tensor)"
      ],
      "metadata": {
        "colab": {
          "base_uri": "https://localhost:8080/"
        },
        "id": "e9pQ4tD5pWiL",
        "outputId": "57699ad4-6f84-48f7-a1c5-4b7fffc409cb"
      },
      "execution_count": 38,
      "outputs": [
        {
          "output_type": "execute_result",
          "data": {
            "text/plain": [
              "tensor(35)"
            ]
          },
          "metadata": {},
          "execution_count": 38
        }
      ]
    },
    {
      "cell_type": "code",
      "source": [
        "# '@' symbol also works for matrix multiplication\n",
        "tensor @ tensor"
      ],
      "metadata": {
        "colab": {
          "base_uri": "https://localhost:8080/"
        },
        "id": "R69MCDMXsULh",
        "outputId": "9b972ab6-7682-4299-a519-68fd92b74548"
      },
      "execution_count": 39,
      "outputs": [
        {
          "output_type": "execute_result",
          "data": {
            "text/plain": [
              "tensor(35)"
            ]
          },
          "metadata": {},
          "execution_count": 39
        }
      ]
    },
    {
      "cell_type": "code",
      "source": [
        "# Matrix multiplication by hand\n",
        "1*1+3*3+5*5"
      ],
      "metadata": {
        "colab": {
          "base_uri": "https://localhost:8080/"
        },
        "id": "nMTiBoerpgFT",
        "outputId": "1081b833-e9fe-4477-cdcb-4f4c34985869"
      },
      "execution_count": 40,
      "outputs": [
        {
          "output_type": "execute_result",
          "data": {
            "text/plain": [
              "35"
            ]
          },
          "metadata": {},
          "execution_count": 40
        }
      ]
    },
    {
      "cell_type": "code",
      "source": [
        "# matrix multiplication shape error\n",
        "tensor1 = torch.tensor([3,2])\n",
        "tensor2 = torch.tensor([3,2,2])\n",
        "try:\n",
        "  torch.matmul(tensor1,tensor2)\n",
        "except Exception as e:\n",
        "  print(e)"
      ],
      "metadata": {
        "colab": {
          "base_uri": "https://localhost:8080/"
        },
        "id": "KVf5e_VMtez9",
        "outputId": "33523199-c170-451b-e696-feeb8c2040a5"
      },
      "execution_count": 41,
      "outputs": [
        {
          "output_type": "stream",
          "name": "stdout",
          "text": [
            "inconsistent tensor size, expected tensor [2] and src [3] to have the same number of elements, but got 2 and 3 elements respectively\n"
          ]
        }
      ]
    },
    {
      "cell_type": "markdown",
      "source": [
        "#### Time comparision for matrix multiplication: manually vs pytorch"
      ],
      "metadata": {
        "id": "sBdST5U0qR3o"
      }
    },
    {
      "cell_type": "code",
      "source": [
        "tensor = torch.rand([5,5])"
      ],
      "metadata": {
        "id": "fQNk_yTOq3wS"
      },
      "execution_count": 42,
      "outputs": []
    },
    {
      "cell_type": "code",
      "source": [
        "%%time\n",
        "print(sum(x*x for x in tensor))"
      ],
      "metadata": {
        "colab": {
          "base_uri": "https://localhost:8080/"
        },
        "id": "DPeYL6Btp59D",
        "outputId": "24795605-bb8e-4832-ba59-5b344de0f37b"
      },
      "execution_count": 43,
      "outputs": [
        {
          "output_type": "stream",
          "name": "stdout",
          "text": [
            "tensor([2.3437, 2.0230, 1.4860, 1.4678, 2.7243])\n",
            "CPU times: user 1.29 ms, sys: 42 µs, total: 1.33 ms\n",
            "Wall time: 1.37 ms\n"
          ]
        }
      ]
    },
    {
      "cell_type": "code",
      "source": [
        "%%time\n",
        "print(torch.matmul(tensor,tensor))"
      ],
      "metadata": {
        "colab": {
          "base_uri": "https://localhost:8080/"
        },
        "id": "YrkbudD4qiM9",
        "outputId": "0fe354a0-cf85-41fb-a26b-bdf4160f9b8f"
      },
      "execution_count": 44,
      "outputs": [
        {
          "output_type": "stream",
          "name": "stdout",
          "text": [
            "tensor([[1.7581, 1.2790, 0.8835, 1.0476, 1.7704],\n",
            "        [1.3519, 1.5124, 1.4494, 0.7406, 1.9469],\n",
            "        [1.8489, 1.3016, 1.1762, 1.1955, 1.9184],\n",
            "        [2.5729, 1.8504, 1.2989, 2.0138, 2.3872],\n",
            "        [1.9098, 1.5160, 1.2365, 1.5537, 2.1062]])\n",
            "CPU times: user 1.67 ms, sys: 0 ns, total: 1.67 ms\n",
            "Wall time: 12.5 ms\n"
          ]
        }
      ]
    },
    {
      "cell_type": "markdown",
      "source": [
        "### Shape errors in matrix multiplication"
      ],
      "metadata": {
        "id": "jnSTXDCozWv-"
      }
    },
    {
      "cell_type": "code",
      "source": [
        "tensorA = torch.tensor(([3,5,1],\n",
        "                       [2,2,5],\n",
        "                       [9,2,3]))\n",
        "tensorB = torch.tensor(([3,5,4],\n",
        "                       [1,0,5],\n",
        "                       [7,2,4],\n",
        "                       [2,2,4],\n",
        "                        ))\n",
        "print(str(tensorA)+'\\n'+str(tensorB))"
      ],
      "metadata": {
        "colab": {
          "base_uri": "https://localhost:8080/"
        },
        "id": "EK4v8DtH032L",
        "outputId": "e2de58f0-c51c-45e9-f208-b2930d4ec6e9"
      },
      "execution_count": 45,
      "outputs": [
        {
          "output_type": "stream",
          "name": "stdout",
          "text": [
            "tensor([[3, 5, 1],\n",
            "        [2, 2, 5],\n",
            "        [9, 2, 3]])\n",
            "tensor([[3, 5, 4],\n",
            "        [1, 0, 5],\n",
            "        [7, 2, 4],\n",
            "        [2, 2, 4]])\n"
          ]
        }
      ]
    },
    {
      "cell_type": "code",
      "source": [
        "print(str(tensorA.shape)+'\\n'+str(tensorB.shape))"
      ],
      "metadata": {
        "colab": {
          "base_uri": "https://localhost:8080/"
        },
        "id": "X-Lv_do31tOS",
        "outputId": "bbc1fa9a-0bb2-426b-b71d-1a7ae59b4f0f"
      },
      "execution_count": 46,
      "outputs": [
        {
          "output_type": "stream",
          "name": "stdout",
          "text": [
            "torch.Size([3, 3])\n",
            "torch.Size([4, 3])\n"
          ]
        }
      ]
    },
    {
      "cell_type": "code",
      "source": [
        "# inner dimensions do not match, shape error\n",
        "try:\n",
        "  torch.matmul(tensorA,tensorB)\n",
        "except Exception as e:\n",
        "  print(e)"
      ],
      "metadata": {
        "id": "JWrjlys2sLEq",
        "colab": {
          "base_uri": "https://localhost:8080/"
        },
        "outputId": "515b7bc0-5215-4e35-f59f-0fc264e05b07"
      },
      "execution_count": 47,
      "outputs": [
        {
          "output_type": "stream",
          "name": "stdout",
          "text": [
            "mat1 and mat2 shapes cannot be multiplied (3x3 and 4x3)\n"
          ]
        }
      ]
    },
    {
      "cell_type": "markdown",
      "source": [
        "To fix tensor shape issues, we can manipulate the shape of one of our tensors using a **transpose**.\n",
        "\n",
        "A **transpose** switches the axes or dimensions of a given tensor.\n",
        "`tensorA.T` or `torch.transpose(tensorA,0,1)`"
      ],
      "metadata": {
        "id": "f1LnHJOj190g"
      }
    },
    {
      "cell_type": "code",
      "source": [
        "tensorB # original tensorB"
      ],
      "metadata": {
        "id": "xanSGv87qoXb",
        "colab": {
          "base_uri": "https://localhost:8080/"
        },
        "outputId": "2c9f629d-48ea-429f-a882-6051aa57e287"
      },
      "execution_count": 48,
      "outputs": [
        {
          "output_type": "execute_result",
          "data": {
            "text/plain": [
              "tensor([[3, 5, 4],\n",
              "        [1, 0, 5],\n",
              "        [7, 2, 4],\n",
              "        [2, 2, 4]])"
            ]
          },
          "metadata": {},
          "execution_count": 48
        }
      ]
    },
    {
      "cell_type": "code",
      "source": [
        "tensorB.T # transposed tensorB from shape (3,4) to (4,3)"
      ],
      "metadata": {
        "colab": {
          "base_uri": "https://localhost:8080/"
        },
        "id": "HK1-r0iF2Th0",
        "outputId": "0d44bad5-cc90-4dcb-bb5c-ec302b1478ff"
      },
      "execution_count": 49,
      "outputs": [
        {
          "output_type": "execute_result",
          "data": {
            "text/plain": [
              "tensor([[3, 1, 7, 2],\n",
              "        [5, 0, 2, 2],\n",
              "        [4, 5, 4, 4]])"
            ]
          },
          "metadata": {},
          "execution_count": 49
        }
      ]
    },
    {
      "cell_type": "code",
      "source": [
        "torch.matmul(tensorA,tensorB.T) # matrix multiplication works when tensorB is transposed"
      ],
      "metadata": {
        "id": "O8vdPY3FtLzA",
        "colab": {
          "base_uri": "https://localhost:8080/"
        },
        "outputId": "f1d614af-760c-4812-8072-ef29915e6de5"
      },
      "execution_count": 50,
      "outputs": [
        {
          "output_type": "execute_result",
          "data": {
            "text/plain": [
              "tensor([[38,  8, 35, 20],\n",
              "        [36, 27, 38, 28],\n",
              "        [49, 24, 79, 34]])"
            ]
          },
          "metadata": {},
          "execution_count": 50
        }
      ]
    },
    {
      "cell_type": "code",
      "source": [
        "print(f\"Original shapes: tensorA shape = {tensorA.shape}, tensorB shape = {tensorB.shape}\")\n",
        "print(f\"New shapes: tensorA shape = {tensorA.shape}, tensorB shape={tensorB.T.shape}\")\n",
        "print(f\"Matrix multiplication of tensors shape {tensorA.shape} and {tensorB.T.shape}\")\n",
        "result = torch.matmul(tensorA,tensorB.T)\n",
        "print(f'\\n {result}')\n",
        "print(f'\\n output shape: {result.shape}')"
      ],
      "metadata": {
        "colab": {
          "base_uri": "https://localhost:8080/"
        },
        "id": "yCB8Y-_03bp7",
        "outputId": "8ff3606a-290b-4928-c302-04eb5f492108"
      },
      "execution_count": 51,
      "outputs": [
        {
          "output_type": "stream",
          "name": "stdout",
          "text": [
            "Original shapes: tensorA shape = torch.Size([3, 3]), tensorB shape = torch.Size([4, 3])\n",
            "New shapes: tensorA shape = torch.Size([3, 3]), tensorB shape=torch.Size([3, 4])\n",
            "Matrix multiplication of tensors shape torch.Size([3, 3]) and torch.Size([3, 4])\n",
            "\n",
            " tensor([[38,  8, 35, 20],\n",
            "        [36, 27, 38, 28],\n",
            "        [49, 24, 79, 34]])\n",
            "\n",
            " output shape: torch.Size([3, 4])\n"
          ]
        }
      ]
    },
    {
      "cell_type": "markdown",
      "source": [
        "## Finding the min, max, mean, sum, etc (tensor aggregation)"
      ],
      "metadata": {
        "id": "yTh2WqUK776G"
      }
    },
    {
      "cell_type": "code",
      "source": [
        "# Create a tensor\n",
        "import torch\n",
        "\n",
        "x = torch.arange(0,100,10)\n",
        "x"
      ],
      "metadata": {
        "colab": {
          "base_uri": "https://localhost:8080/"
        },
        "id": "meOaUULv4jAN",
        "outputId": "0433f776-ae7e-4df9-fdc1-65962dbc1577"
      },
      "execution_count": 52,
      "outputs": [
        {
          "output_type": "execute_result",
          "data": {
            "text/plain": [
              "tensor([ 0, 10, 20, 30, 40, 50, 60, 70, 80, 90])"
            ]
          },
          "metadata": {},
          "execution_count": 52
        }
      ]
    },
    {
      "cell_type": "code",
      "source": [
        "# Find the min\n",
        "torch.min(x) # or x.min()"
      ],
      "metadata": {
        "colab": {
          "base_uri": "https://localhost:8080/"
        },
        "id": "1LdN8BqT8YL0",
        "outputId": "b14bec1c-40ca-4d97-d325-7c833b3eabc4"
      },
      "execution_count": 53,
      "outputs": [
        {
          "output_type": "execute_result",
          "data": {
            "text/plain": [
              "tensor(0)"
            ]
          },
          "metadata": {},
          "execution_count": 53
        }
      ]
    },
    {
      "cell_type": "code",
      "source": [
        "# Find the max\n",
        "torch.max(x), # or x.max()"
      ],
      "metadata": {
        "colab": {
          "base_uri": "https://localhost:8080/"
        },
        "id": "jl_6VfO38e87",
        "outputId": "2d12053b-cf0b-4f61-fd9a-a2af50d18505"
      },
      "execution_count": 54,
      "outputs": [
        {
          "output_type": "execute_result",
          "data": {
            "text/plain": [
              "(tensor(90),)"
            ]
          },
          "metadata": {},
          "execution_count": 54
        }
      ]
    },
    {
      "cell_type": "code",
      "source": [
        "# Datatype error when using mean on tensor x\n",
        "try:\n",
        "  torch.mean(x)\n",
        "except Exception as e:\n",
        "  print(e)"
      ],
      "metadata": {
        "colab": {
          "base_uri": "https://localhost:8080/"
        },
        "id": "rfmDIFWe8kX5",
        "outputId": "46317d64-88f3-4d05-ea0a-0987ae18a4cf"
      },
      "execution_count": 55,
      "outputs": [
        {
          "output_type": "stream",
          "name": "stdout",
          "text": [
            "mean(): could not infer output dtype. Input dtype must be either a floating point or complex dtype. Got: Long\n"
          ]
        }
      ]
    },
    {
      "cell_type": "code",
      "source": [
        "# Find the mean\n",
        "torch.mean(x.type(torch.float32)) # convert to float32 to avoid error"
      ],
      "metadata": {
        "colab": {
          "base_uri": "https://localhost:8080/"
        },
        "id": "I05i-jhE9KVs",
        "outputId": "409fe943-a867-494a-d9a5-fcaf467a407d"
      },
      "execution_count": 56,
      "outputs": [
        {
          "output_type": "execute_result",
          "data": {
            "text/plain": [
              "tensor(45.)"
            ]
          },
          "metadata": {},
          "execution_count": 56
        }
      ]
    },
    {
      "cell_type": "code",
      "source": [
        "x.type(torch.float32).mean() # alternative way to compute mean"
      ],
      "metadata": {
        "colab": {
          "base_uri": "https://localhost:8080/"
        },
        "id": "EOZF0qQb9XOC",
        "outputId": "d4ef22e9-5b57-49e1-a33f-e296fef60114"
      },
      "execution_count": 57,
      "outputs": [
        {
          "output_type": "execute_result",
          "data": {
            "text/plain": [
              "tensor(45.)"
            ]
          },
          "metadata": {},
          "execution_count": 57
        }
      ]
    },
    {
      "cell_type": "code",
      "source": [
        "# Find the sum\n",
        "torch.sum(x), x.sum()"
      ],
      "metadata": {
        "colab": {
          "base_uri": "https://localhost:8080/"
        },
        "id": "7MoL0tRr8tOd",
        "outputId": "bac692a4-0a44-424c-b74f-4537b7cea749"
      },
      "execution_count": 58,
      "outputs": [
        {
          "output_type": "execute_result",
          "data": {
            "text/plain": [
              "(tensor(450), tensor(450))"
            ]
          },
          "metadata": {},
          "execution_count": 58
        }
      ]
    },
    {
      "cell_type": "code",
      "source": [
        "## Finding the positional min and max"
      ],
      "metadata": {
        "id": "zzNbTMdV9tzA"
      },
      "execution_count": 59,
      "outputs": []
    },
    {
      "cell_type": "code",
      "source": [
        "x = torch.arange(0,100,10)\n",
        "x"
      ],
      "metadata": {
        "colab": {
          "base_uri": "https://localhost:8080/"
        },
        "id": "dUqkRVOc5Sdl",
        "outputId": "8c303dce-f946-4707-ead9-8987e91558a8"
      },
      "execution_count": 60,
      "outputs": [
        {
          "output_type": "execute_result",
          "data": {
            "text/plain": [
              "tensor([ 0, 10, 20, 30, 40, 50, 60, 70, 80, 90])"
            ]
          },
          "metadata": {},
          "execution_count": 60
        }
      ]
    },
    {
      "cell_type": "code",
      "source": [
        "# Find the position in tensor that has the minimum value with argmin() -> returns index position of target tensor where the minimum value occurs\n",
        "x.argmin()"
      ],
      "metadata": {
        "colab": {
          "base_uri": "https://localhost:8080/"
        },
        "id": "K2oRzhhZ5aIF",
        "outputId": "8a1ca2eb-6ada-4df4-e82d-fc82e1f2b5cf"
      },
      "execution_count": 61,
      "outputs": [
        {
          "output_type": "execute_result",
          "data": {
            "text/plain": [
              "tensor(0)"
            ]
          },
          "metadata": {},
          "execution_count": 61
        }
      ]
    },
    {
      "cell_type": "code",
      "source": [
        "x[0]"
      ],
      "metadata": {
        "colab": {
          "base_uri": "https://localhost:8080/"
        },
        "id": "0qKZYl9h5ppe",
        "outputId": "93cd2554-376d-4cfa-b079-00aa43390e5b"
      },
      "execution_count": 62,
      "outputs": [
        {
          "output_type": "execute_result",
          "data": {
            "text/plain": [
              "tensor(0)"
            ]
          },
          "metadata": {},
          "execution_count": 62
        }
      ]
    },
    {
      "cell_type": "code",
      "source": [
        "# Find the position in tensor that has the maximum value with argmax()\n",
        "x.argmax()"
      ],
      "metadata": {
        "colab": {
          "base_uri": "https://localhost:8080/"
        },
        "id": "h5hEddhU5zcE",
        "outputId": "3528f74b-98f1-437d-a5d4-c78d580e78bf"
      },
      "execution_count": 63,
      "outputs": [
        {
          "output_type": "execute_result",
          "data": {
            "text/plain": [
              "tensor(9)"
            ]
          },
          "metadata": {},
          "execution_count": 63
        }
      ]
    },
    {
      "cell_type": "code",
      "source": [
        "x[9]"
      ],
      "metadata": {
        "colab": {
          "base_uri": "https://localhost:8080/"
        },
        "id": "Oha5hB6Q53lF",
        "outputId": "785c71e2-ab76-4524-e890-a72e0ceddf0e"
      },
      "execution_count": 64,
      "outputs": [
        {
          "output_type": "execute_result",
          "data": {
            "text/plain": [
              "tensor(90)"
            ]
          },
          "metadata": {},
          "execution_count": 64
        }
      ]
    },
    {
      "cell_type": "markdown",
      "source": [
        "## Reshaping, stacking, squeezing and unsqueezing tensors\n",
        "\n",
        "* Reshaping - reshapes an input tensor to a efined shape\n",
        "* View - Return a view of an input tensor of certain shape but keep the same memory as the original tensor\n",
        "* Stacking - combine multiple tensors on top of each other (vstack) or side by stack (hstack)\n",
        "* Squeeze - remove all `1` dimensions from a tensor\n",
        "* Unsqueeze - add a `1` dimension to a target tensor\n",
        "* Permute - Return a view of the input with dimensions permuted (swapped) in  certain way"
      ],
      "metadata": {
        "id": "DytDMPWf7mud"
      }
    },
    {
      "cell_type": "code",
      "source": [
        "# Create tensor\n",
        "import torch\n",
        "\n",
        "x = torch.arange(1.,10.)\n",
        "x, x.shape"
      ],
      "metadata": {
        "colab": {
          "base_uri": "https://localhost:8080/"
        },
        "id": "m2X9NJyg7nzi",
        "outputId": "f8d8c069-bf08-48d7-cbe9-ef98ce06fe75"
      },
      "execution_count": 80,
      "outputs": [
        {
          "output_type": "execute_result",
          "data": {
            "text/plain": [
              "(tensor([1., 2., 3., 4., 5., 6., 7., 8., 9.]), torch.Size([9]))"
            ]
          },
          "metadata": {},
          "execution_count": 80
        }
      ]
    },
    {
      "cell_type": "code",
      "source": [
        "# Reshape\n",
        "x_reshaped = x.reshape(1,9) # arguments in torch.reshape() must have the same product as that of the input tensor\n",
        "x_reshaped, x_reshaped.shape"
      ],
      "metadata": {
        "colab": {
          "base_uri": "https://localhost:8080/"
        },
        "id": "GRdimVs97wUj",
        "outputId": "7cd17ca6-4dc8-479c-a08c-69b984633ea9"
      },
      "execution_count": 81,
      "outputs": [
        {
          "output_type": "execute_result",
          "data": {
            "text/plain": [
              "(tensor([[1., 2., 3., 4., 5., 6., 7., 8., 9.]]), torch.Size([1, 9]))"
            ]
          },
          "metadata": {},
          "execution_count": 81
        }
      ]
    },
    {
      "cell_type": "code",
      "source": [
        "# Change the view\n",
        "z = x.view(2,5)\n",
        "z, z.shape"
      ],
      "metadata": {
        "colab": {
          "base_uri": "https://localhost:8080/"
        },
        "id": "zsGx0Iwj8HsV",
        "outputId": "2e766f63-f455-48ae-d483-a5a1b9a1fb76"
      },
      "execution_count": 67,
      "outputs": [
        {
          "output_type": "execute_result",
          "data": {
            "text/plain": [
              "(tensor([[ 1.,  2.,  3.,  4.,  5.],\n",
              "         [ 6.,  7.,  8.,  9., 10.]]),\n",
              " torch.Size([2, 5]))"
            ]
          },
          "metadata": {},
          "execution_count": 67
        }
      ]
    },
    {
      "cell_type": "markdown",
      "source": [
        "`torch.view()` creates a new tensor sharing the same memory as the original(changing pytorch's interpretation of the tensor).\n",
        "\n",
        "`torch.reshape()` creates a new tensor in memory: iff the tensor is non-contiguous(has been modified from initialization).\n",
        "\n",
        "If tensor is contiguous, `torch.view()` and `torch.reshape()` behave the same."
      ],
      "metadata": {
        "id": "0vuCT4m1_03K"
      }
    },
    {
      "cell_type": "code",
      "source": [
        "# Stack tensors on top of each other\n",
        "x_stacked = torch.stack([x,x,x,x],dim=0)\n",
        "x_stacked"
      ],
      "metadata": {
        "id": "6BMXx9TQ9BOa",
        "colab": {
          "base_uri": "https://localhost:8080/"
        },
        "outputId": "cc101d2f-3804-4995-94bf-e42182b39c40"
      },
      "execution_count": 68,
      "outputs": [
        {
          "output_type": "execute_result",
          "data": {
            "text/plain": [
              "tensor([[ 1.,  2.,  3.,  4.,  5.,  6.,  7.,  8.,  9., 10.],\n",
              "        [ 1.,  2.,  3.,  4.,  5.,  6.,  7.,  8.,  9., 10.],\n",
              "        [ 1.,  2.,  3.,  4.,  5.,  6.,  7.,  8.,  9., 10.],\n",
              "        [ 1.,  2.,  3.,  4.,  5.,  6.,  7.,  8.,  9., 10.]])"
            ]
          },
          "metadata": {},
          "execution_count": 68
        }
      ]
    },
    {
      "cell_type": "code",
      "source": [
        "x_stacked = torch.stack([x,x,x,x],dim=1) #change orientation idk what this do\n",
        "x_stacked"
      ],
      "metadata": {
        "colab": {
          "base_uri": "https://localhost:8080/"
        },
        "id": "F-NmoM-gUMQN",
        "outputId": "2a4ba743-6ec8-4003-d4a9-2ceab8b7590c"
      },
      "execution_count": 69,
      "outputs": [
        {
          "output_type": "execute_result",
          "data": {
            "text/plain": [
              "tensor([[ 1.,  1.,  1.,  1.],\n",
              "        [ 2.,  2.,  2.,  2.],\n",
              "        [ 3.,  3.,  3.,  3.],\n",
              "        [ 4.,  4.,  4.,  4.],\n",
              "        [ 5.,  5.,  5.,  5.],\n",
              "        [ 6.,  6.,  6.,  6.],\n",
              "        [ 7.,  7.,  7.,  7.],\n",
              "        [ 8.,  8.,  8.,  8.],\n",
              "        [ 9.,  9.,  9.,  9.],\n",
              "        [10., 10., 10., 10.]])"
            ]
          },
          "metadata": {},
          "execution_count": 69
        }
      ]
    },
    {
      "cell_type": "code",
      "source": [
        "# torch.squeeze() - removes all single dimensions from a target tensor\n",
        "print(f\"Previous tensor: {x_reshaped}\")\n",
        "print(f\"Previous shape: {x_reshaped.shape}\\n\")\n",
        "\n",
        "# Remove extra dimensions from x_reshaped\n",
        "x_squeezed = x_reshaped.squeeze()\n",
        "print(f\"New tensor: {x_squeezed}\")\n",
        "print(f\"Nerw tensor shape: {x_squeezed.shape}\")"
      ],
      "metadata": {
        "colab": {
          "base_uri": "https://localhost:8080/"
        },
        "id": "yjbReuLZfEEt",
        "outputId": "53195d91-9295-4eb7-8761-b27976569bc9"
      },
      "execution_count": 87,
      "outputs": [
        {
          "output_type": "stream",
          "name": "stdout",
          "text": [
            "Previous tensor: tensor([[1., 2., 3., 4., 5., 6., 7., 8., 9.]])\n",
            "Previous shape: torch.Size([1, 9])\n",
            "\n",
            "New tensor: tensor([1., 2., 3., 4., 5., 6., 7., 8., 9.])\n",
            "Nerw tensor shape: torch.Size([9])\n"
          ]
        }
      ]
    },
    {
      "cell_type": "code",
      "source": [
        "# torch.unsqueeze() - adds a single dimension to a target tensor at a specific dimension\n",
        "print(f\"Previous target: {x_squeezed}\")\n",
        "print(f\"Previous shape: {x_squeezed.shape}\")\n",
        "\n",
        "# add an extra dimension with unsqueeze\n",
        "x_unsqueezed = x_squeezed.unsqueeze(dim=0) # dim is the index of the addition\n",
        "print(f\"\\n New tensor: {x_unsqueezed}\")\n",
        "print(f\"\\n New tensor shape: {x_unsqueezed.shape}\")"
      ],
      "metadata": {
        "colab": {
          "base_uri": "https://localhost:8080/"
        },
        "id": "CPHiScNtehG_",
        "outputId": "e9036e5f-abe0-40c5-94b1-75801de001a5"
      },
      "execution_count": 105,
      "outputs": [
        {
          "output_type": "stream",
          "name": "stdout",
          "text": [
            "Previous target: tensor([1., 2., 3., 4., 5., 6., 7., 8., 9.])\n",
            "Previous shape: torch.Size([9])\n",
            "\n",
            " New tensor: tensor([[1., 2., 3., 4., 5., 6., 7., 8., 9.]])\n",
            "\n",
            " New tensor shape: torch.Size([1, 9])\n"
          ]
        }
      ]
    },
    {
      "cell_type": "code",
      "source": [
        "# torch.permute - rearranges the dimensions of a target tensor\n",
        "x_original = torch.rand(size=(224,224,3)) # [height,width,color_channels]\n",
        "print(f\"Previous shape: {x_original.shape}\\n\")\n",
        "\n",
        "# permute the original tensor to rearrrange the axis (or dim) order\n",
        "x_permuted = x_original.permute(2,0,1)\n",
        "print(\"changes:\\n 2nd dim -> 1st dim \\n 0th dim -> 1st dim \\n 1st dim -> 2nd dim \\n\")\n",
        "print(f\"New shape: {x_permuted.shape}\")"
      ],
      "metadata": {
        "colab": {
          "base_uri": "https://localhost:8080/"
        },
        "id": "IOFU5ghYigIN",
        "outputId": "60a694d6-0405-401a-9d48-41eeefc42702"
      },
      "execution_count": 106,
      "outputs": [
        {
          "output_type": "stream",
          "name": "stdout",
          "text": [
            "Previous shape: torch.Size([224, 224, 3])\n",
            "\n",
            "changes:\n",
            " 2nd dim -> 1st dim \n",
            " 0th dim -> 1st dim \n",
            " 1st dim -> 2nd dim \n",
            "\n",
            "New shape: torch.Size([3, 224, 224])\n"
          ]
        }
      ]
    },
    {
      "cell_type": "markdown",
      "source": [
        "`torch.permute()` returns a view of the previous tensor - shares same memory as previous tensor"
      ],
      "metadata": {
        "id": "KOIFc3z3l8PS"
      }
    },
    {
      "cell_type": "markdown",
      "source": [
        "## Indexing (selecting data from tensors)\n",
        "Indexing with Pytorch is similar to indexing with NumPy"
      ],
      "metadata": {
        "id": "LKxx2KmbmzYr"
      }
    },
    {
      "cell_type": "code",
      "source": [
        "# Create a tensor\n",
        "import torch\n",
        "x = torch.arange(1,10).reshape(1,3,3)\n",
        "x,x.shape"
      ],
      "metadata": {
        "colab": {
          "base_uri": "https://localhost:8080/"
        },
        "id": "r0OCeFmvk0uL",
        "outputId": "e82cb9f0-d02d-4572-8786-738d4fc7c177"
      },
      "execution_count": 107,
      "outputs": [
        {
          "output_type": "execute_result",
          "data": {
            "text/plain": [
              "(tensor([[[1, 2, 3],\n",
              "          [4, 5, 6],\n",
              "          [7, 8, 9]]]),\n",
              " torch.Size([1, 3, 3]))"
            ]
          },
          "metadata": {},
          "execution_count": 107
        }
      ]
    },
    {
      "cell_type": "code",
      "source": [
        "# first tensor within the tensor\n",
        "x[0]"
      ],
      "metadata": {
        "colab": {
          "base_uri": "https://localhost:8080/"
        },
        "id": "xGRAMwuZncKB",
        "outputId": "505d628e-4b14-405d-bd4c-8bda9dadbab0"
      },
      "execution_count": 112,
      "outputs": [
        {
          "output_type": "execute_result",
          "data": {
            "text/plain": [
              "tensor([[1, 2, 3],\n",
              "        [4, 5, 6],\n",
              "        [7, 8, 9]])"
            ]
          },
          "metadata": {},
          "execution_count": 112
        }
      ]
    },
    {
      "cell_type": "code",
      "source": [
        "# first row of the first matrix\n",
        "x[0][0]"
      ],
      "metadata": {
        "colab": {
          "base_uri": "https://localhost:8080/"
        },
        "id": "n2R94ZH1nsJR",
        "outputId": "a42df8db-e960-46dd-f275-62b98cfddcd6"
      },
      "execution_count": 113,
      "outputs": [
        {
          "output_type": "execute_result",
          "data": {
            "text/plain": [
              "tensor([1, 2, 3])"
            ]
          },
          "metadata": {},
          "execution_count": 113
        }
      ]
    },
    {
      "cell_type": "code",
      "source": [
        "# first element of the first row of the first matrix\n",
        "x[0][0][0]"
      ],
      "metadata": {
        "colab": {
          "base_uri": "https://localhost:8080/"
        },
        "id": "ms7-es-0n0Y4",
        "outputId": "1a933bdc-8d28-423c-a34a-bbb7bf482f20"
      },
      "execution_count": 114,
      "outputs": [
        {
          "output_type": "execute_result",
          "data": {
            "text/plain": [
              "tensor(1)"
            ]
          },
          "metadata": {},
          "execution_count": 114
        }
      ]
    },
    {
      "cell_type": "code",
      "source": [
        "# center most element\n",
        "x[0][1][1]"
      ],
      "metadata": {
        "colab": {
          "base_uri": "https://localhost:8080/"
        },
        "id": "aRlmxHPYn9ux",
        "outputId": "a1760891-bd0b-4383-a161-0a856953109c"
      },
      "execution_count": 115,
      "outputs": [
        {
          "output_type": "execute_result",
          "data": {
            "text/plain": [
              "tensor(5)"
            ]
          },
          "metadata": {},
          "execution_count": 115
        }
      ]
    },
    {
      "cell_type": "code",
      "source": [
        "# \":\" to select all of a target dimension\n",
        "x[:,0]"
      ],
      "metadata": {
        "colab": {
          "base_uri": "https://localhost:8080/"
        },
        "id": "d079i3FHpqpb",
        "outputId": "de26d0ac-5931-44af-9b00-f7511f120de2"
      },
      "execution_count": 116,
      "outputs": [
        {
          "output_type": "execute_result",
          "data": {
            "text/plain": [
              "tensor([[1, 2, 3]])"
            ]
          },
          "metadata": {},
          "execution_count": 116
        }
      ]
    },
    {
      "cell_type": "code",
      "source": [
        "# get columns\n",
        "print(f\"First column: {x[:,:,0]}\")\n",
        "print(f\"Second column: {x[:,:,1]}\")\n",
        "print(f\"Second column: {x[:,:,2]}\")"
      ],
      "metadata": {
        "colab": {
          "base_uri": "https://localhost:8080/"
        },
        "id": "ELQAx9GCqBQw",
        "outputId": "e11b7635-b414-4900-90e7-98c9336b6233"
      },
      "execution_count": 120,
      "outputs": [
        {
          "output_type": "stream",
          "name": "stdout",
          "text": [
            "First column: tensor([[1, 4, 7]])\n",
            "Second column: tensor([[2, 5, 8]])\n",
            "Second column: tensor([[3, 6, 9]])\n"
          ]
        }
      ]
    },
    {
      "cell_type": "code",
      "source": [
        "# get rows\n",
        "print(f\"First row: {x[:,0,:]}\")\n",
        "print(f\"Second row: {x[:,1,:]}\")\n",
        "print(f\"Third row: {x[:,2,:]}\")"
      ],
      "metadata": {
        "colab": {
          "base_uri": "https://localhost:8080/"
        },
        "id": "1NzYkAj9qsly",
        "outputId": "b429350d-1688-48d7-a87e-7d8cd40fac60"
      },
      "execution_count": 122,
      "outputs": [
        {
          "output_type": "stream",
          "name": "stdout",
          "text": [
            "First row: tensor([[1, 2, 3]])\n",
            "Second row: tensor([[4, 5, 6]])\n",
            "Third row: tensor([[7, 8, 9]])\n"
          ]
        }
      ]
    },
    {
      "cell_type": "code",
      "source": [],
      "metadata": {
        "id": "uJ7LyI48rw7r"
      },
      "execution_count": null,
      "outputs": []
    }
  ]
}